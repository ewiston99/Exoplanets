{
 "cells": [
  {
   "cell_type": "code",
   "execution_count": 1,
   "metadata": {},
   "outputs": [
    {
     "data": {
      "text/html": [
       "<div>\n",
       "<style scoped>\n",
       "    .dataframe tbody tr th:only-of-type {\n",
       "        vertical-align: middle;\n",
       "    }\n",
       "\n",
       "    .dataframe tbody tr th {\n",
       "        vertical-align: top;\n",
       "    }\n",
       "\n",
       "    .dataframe thead th {\n",
       "        text-align: right;\n",
       "    }\n",
       "</style>\n",
       "<table border=\"1\" class=\"dataframe\">\n",
       "  <thead>\n",
       "    <tr style=\"text-align: right;\">\n",
       "      <th></th>\n",
       "      <th>pl_hostname</th>\n",
       "      <th>pl_discmethod</th>\n",
       "      <th>pl_telescope</th>\n",
       "    </tr>\n",
       "  </thead>\n",
       "  <tbody>\n",
       "    <tr>\n",
       "      <td>0</td>\n",
       "      <td>AU Mic</td>\n",
       "      <td>Transit</td>\n",
       "      <td>0.1 m TESS Telescope</td>\n",
       "    </tr>\n",
       "    <tr>\n",
       "      <td>1</td>\n",
       "      <td>GJ 1252</td>\n",
       "      <td>Transit</td>\n",
       "      <td>0.1 m TESS Telescope</td>\n",
       "    </tr>\n",
       "    <tr>\n",
       "      <td>2</td>\n",
       "      <td>GJ 143</td>\n",
       "      <td>Transit</td>\n",
       "      <td>0.1 m TESS Telescope</td>\n",
       "    </tr>\n",
       "    <tr>\n",
       "      <td>3</td>\n",
       "      <td>GJ 357</td>\n",
       "      <td>Transit</td>\n",
       "      <td>0.1 m TESS Telescope</td>\n",
       "    </tr>\n",
       "    <tr>\n",
       "      <td>4</td>\n",
       "      <td>HD 1397</td>\n",
       "      <td>Transit</td>\n",
       "      <td>0.1 m TESS Telescope</td>\n",
       "    </tr>\n",
       "  </tbody>\n",
       "</table>\n",
       "</div>"
      ],
      "text/plain": [
       "  pl_hostname pl_discmethod          pl_telescope\n",
       "0      AU Mic       Transit  0.1 m TESS Telescope\n",
       "1     GJ 1252       Transit  0.1 m TESS Telescope\n",
       "2      GJ 143       Transit  0.1 m TESS Telescope\n",
       "3      GJ 357       Transit  0.1 m TESS Telescope\n",
       "4     HD 1397       Transit  0.1 m TESS Telescope"
      ]
     },
     "execution_count": 1,
     "metadata": {},
     "output_type": "execute_result"
    }
   ],
   "source": [
    "import pandas as pd\n",
    "import numpy as np\n",
    "from transitleastsquares import transitleastsquares, cleaned_array\n",
    "import lightkurve as lc\n",
    "from astroquery.mast import Observations\n",
    "from astropy.io import fits\n",
    "import matplotlib.pyplot as plt\n",
    "%matplotlib inline\n",
    "\n",
    "planetsTable = pd.read_csv('TESSPlanetsFiltered.csv')\n",
    "\n",
    "planetsTable.head()\n"
   ]
  },
  {
   "cell_type": "code",
   "execution_count": 2,
   "metadata": {},
   "outputs": [],
   "source": [
    "names = planetsTable['pl_hostname'].to_numpy()"
   ]
  },
  {
   "cell_type": "code",
   "execution_count": 3,
   "metadata": {},
   "outputs": [
    {
     "name": "stderr",
     "output_type": "stream",
     "text": [
      "/Users/sarahkane/opt/anaconda3/lib/python3.7/site-packages/lightkurve/lightcurvefile.py:47: LightkurveWarning: `LightCurveFile.header` is deprecated, please use `LightCurveFile.get_header()` instead.\n",
      "  LightkurveWarning)\n"
     ]
    },
    {
     "name": "stdout",
     "output_type": "stream",
     "text": [
      "TessLightCurveFile(TICID: 441420236)\n"
     ]
    },
    {
     "name": "stderr",
     "output_type": "stream",
     "text": [
      "/Users/sarahkane/opt/anaconda3/lib/python3.7/site-packages/lightkurve/lightcurvefile.py:47: LightkurveWarning: `LightCurveFile.header` is deprecated, please use `LightCurveFile.get_header()` instead.\n",
      "  LightkurveWarning)\n"
     ]
    },
    {
     "name": "stdout",
     "output_type": "stream",
     "text": [
      "TessLightCurveFile(TICID: 370133522)\n"
     ]
    },
    {
     "name": "stderr",
     "output_type": "stream",
     "text": [
      "/Users/sarahkane/opt/anaconda3/lib/python3.7/site-packages/lightkurve/search.py:233: LightkurveWarning: Warning: 4 files available to download. Only the first file has been downloaded. Please use `download_all()` or specify additional criteria (e.g. quarter, campaign, or sector) to limit your search.\n",
      "  LightkurveWarning)\n",
      "/Users/sarahkane/opt/anaconda3/lib/python3.7/site-packages/lightkurve/lightcurvefile.py:47: LightkurveWarning: `LightCurveFile.header` is deprecated, please use `LightCurveFile.get_header()` instead.\n",
      "  LightkurveWarning)\n"
     ]
    },
    {
     "name": "stdout",
     "output_type": "stream",
     "text": [
      "TessLightCurveFile(TICID: 279741379)\n"
     ]
    },
    {
     "name": "stderr",
     "output_type": "stream",
     "text": [
      "/Users/sarahkane/opt/anaconda3/lib/python3.7/site-packages/lightkurve/lightcurvefile.py:47: LightkurveWarning: `LightCurveFile.header` is deprecated, please use `LightCurveFile.get_header()` instead.\n",
      "  LightkurveWarning)\n"
     ]
    },
    {
     "name": "stdout",
     "output_type": "stream",
     "text": [
      "TessLightCurveFile(TICID: 413248763)\n"
     ]
    },
    {
     "name": "stderr",
     "output_type": "stream",
     "text": [
      "/Users/sarahkane/opt/anaconda3/lib/python3.7/site-packages/lightkurve/lightcurvefile.py:47: LightkurveWarning: `LightCurveFile.header` is deprecated, please use `LightCurveFile.get_header()` instead.\n",
      "  LightkurveWarning)\n"
     ]
    },
    {
     "name": "stdout",
     "output_type": "stream",
     "text": [
      "TessLightCurveFile(TICID: 394137592)\n"
     ]
    },
    {
     "name": "stderr",
     "output_type": "stream",
     "text": [
      "/Users/sarahkane/opt/anaconda3/lib/python3.7/site-packages/lightkurve/search.py:233: LightkurveWarning: Warning: 2 files available to download. Only the first file has been downloaded. Please use `download_all()` or specify additional criteria (e.g. quarter, campaign, or sector) to limit your search.\n",
      "  LightkurveWarning)\n",
      "/Users/sarahkane/opt/anaconda3/lib/python3.7/site-packages/lightkurve/lightcurvefile.py:47: LightkurveWarning: `LightCurveFile.header` is deprecated, please use `LightCurveFile.get_header()` instead.\n",
      "  LightkurveWarning)\n",
      "Warning: 31% (6168/19692) of the cadences will be ignored due to the quality mask (quality_bitmask=175).\n"
     ]
    },
    {
     "name": "stdout",
     "output_type": "stream",
     "text": [
      "TessLightCurveFile(TICID: 120896927)\n"
     ]
    },
    {
     "name": "stderr",
     "output_type": "stream",
     "text": [
      "/Users/sarahkane/opt/anaconda3/lib/python3.7/site-packages/lightkurve/search.py:233: LightkurveWarning: Warning: 2 files available to download. Only the first file has been downloaded. Please use `download_all()` or specify additional criteria (e.g. quarter, campaign, or sector) to limit your search.\n",
      "  LightkurveWarning)\n",
      "/Users/sarahkane/opt/anaconda3/lib/python3.7/site-packages/lightkurve/lightcurvefile.py:47: LightkurveWarning: `LightCurveFile.header` is deprecated, please use `LightCurveFile.get_header()` instead.\n",
      "  LightkurveWarning)\n",
      "Warning: 31% (6168/19692) of the cadences will be ignored due to the quality mask (quality_bitmask=175).\n"
     ]
    },
    {
     "name": "stdout",
     "output_type": "stream",
     "text": [
      "TessLightCurveFile(TICID: 120896927)\n"
     ]
    },
    {
     "name": "stderr",
     "output_type": "stream",
     "text": [
      "/Users/sarahkane/opt/anaconda3/lib/python3.7/site-packages/lightkurve/lightcurvefile.py:47: LightkurveWarning: `LightCurveFile.header` is deprecated, please use `LightCurveFile.get_header()` instead.\n",
      "  LightkurveWarning)\n"
     ]
    },
    {
     "name": "stdout",
     "output_type": "stream",
     "text": [
      "TessLightCurveFile(TICID: 290131778)\n"
     ]
    },
    {
     "name": "stderr",
     "output_type": "stream",
     "text": [
      "/Users/sarahkane/opt/anaconda3/lib/python3.7/site-packages/lightkurve/lightcurvefile.py:47: LightkurveWarning: `LightCurveFile.header` is deprecated, please use `LightCurveFile.get_header()` instead.\n",
      "  LightkurveWarning)\n"
     ]
    },
    {
     "name": "stdout",
     "output_type": "stream",
     "text": [
      "TessLightCurveFile(TICID: 403224672)\n"
     ]
    },
    {
     "name": "stderr",
     "output_type": "stream",
     "text": [
      "/Users/sarahkane/opt/anaconda3/lib/python3.7/site-packages/lightkurve/search.py:233: LightkurveWarning: Warning: 4 files available to download. Only the first file has been downloaded. Please use `download_all()` or specify additional criteria (e.g. quarter, campaign, or sector) to limit your search.\n",
      "  LightkurveWarning)\n",
      "/Users/sarahkane/opt/anaconda3/lib/python3.7/site-packages/lightkurve/lightcurvefile.py:47: LightkurveWarning: `LightCurveFile.header` is deprecated, please use `LightCurveFile.get_header()` instead.\n",
      "  LightkurveWarning)\n"
     ]
    },
    {
     "name": "stdout",
     "output_type": "stream",
     "text": [
      "TessLightCurveFile(TICID: 279741379)\n"
     ]
    },
    {
     "name": "stderr",
     "output_type": "stream",
     "text": [
      "/Users/sarahkane/opt/anaconda3/lib/python3.7/site-packages/lightkurve/lightcurvefile.py:47: LightkurveWarning: `LightCurveFile.header` is deprecated, please use `LightCurveFile.get_header()` instead.\n",
      "  LightkurveWarning)\n"
     ]
    },
    {
     "name": "stdout",
     "output_type": "stream",
     "text": [
      "TessLightCurveFile(TICID: 266980320)\n"
     ]
    },
    {
     "name": "stderr",
     "output_type": "stream",
     "text": [
      "/Users/sarahkane/opt/anaconda3/lib/python3.7/site-packages/lightkurve/lightcurvefile.py:47: LightkurveWarning: `LightCurveFile.header` is deprecated, please use `LightCurveFile.get_header()` instead.\n",
      "  LightkurveWarning)\n"
     ]
    },
    {
     "name": "stdout",
     "output_type": "stream",
     "text": [
      "TessLightCurveFile(TICID: 441462736)\n"
     ]
    },
    {
     "name": "stderr",
     "output_type": "stream",
     "text": [
      "/Users/sarahkane/opt/anaconda3/lib/python3.7/site-packages/lightkurve/search.py:233: LightkurveWarning: Warning: 5 files available to download. Only the first file has been downloaded. Please use `download_all()` or specify additional criteria (e.g. quarter, campaign, or sector) to limit your search.\n",
      "  LightkurveWarning)\n",
      "/Users/sarahkane/opt/anaconda3/lib/python3.7/site-packages/lightkurve/lightcurvefile.py:47: LightkurveWarning: `LightCurveFile.header` is deprecated, please use `LightCurveFile.get_header()` instead.\n",
      "  LightkurveWarning)\n"
     ]
    },
    {
     "name": "stdout",
     "output_type": "stream",
     "text": [
      "TessLightCurveFile(TICID: 425997655)\n"
     ]
    },
    {
     "name": "stderr",
     "output_type": "stream",
     "text": [
      "/Users/sarahkane/opt/anaconda3/lib/python3.7/site-packages/lightkurve/search.py:233: LightkurveWarning: Warning: 5 files available to download. Only the first file has been downloaded. Please use `download_all()` or specify additional criteria (e.g. quarter, campaign, or sector) to limit your search.\n",
      "  LightkurveWarning)\n",
      "/Users/sarahkane/opt/anaconda3/lib/python3.7/site-packages/lightkurve/lightcurvefile.py:47: LightkurveWarning: `LightCurveFile.header` is deprecated, please use `LightCurveFile.get_header()` instead.\n",
      "  LightkurveWarning)\n"
     ]
    },
    {
     "name": "stdout",
     "output_type": "stream",
     "text": [
      "TessLightCurveFile(TICID: 425997655)\n"
     ]
    },
    {
     "name": "stderr",
     "output_type": "stream",
     "text": [
      "/Users/sarahkane/opt/anaconda3/lib/python3.7/site-packages/lightkurve/lightcurvefile.py:47: LightkurveWarning: `LightCurveFile.header` is deprecated, please use `LightCurveFile.get_header()` instead.\n",
      "  LightkurveWarning)\n"
     ]
    },
    {
     "name": "stdout",
     "output_type": "stream",
     "text": [
      "TessLightCurveFile(TICID: 267263253)\n"
     ]
    },
    {
     "name": "stderr",
     "output_type": "stream",
     "text": [
      "/Users/sarahkane/opt/anaconda3/lib/python3.7/site-packages/lightkurve/search.py:233: LightkurveWarning: Warning: 2 files available to download. Only the first file has been downloaded. Please use `download_all()` or specify additional criteria (e.g. quarter, campaign, or sector) to limit your search.\n",
      "  LightkurveWarning)\n",
      "/Users/sarahkane/opt/anaconda3/lib/python3.7/site-packages/lightkurve/lightcurvefile.py:47: LightkurveWarning: `LightCurveFile.header` is deprecated, please use `LightCurveFile.get_header()` instead.\n",
      "  LightkurveWarning)\n"
     ]
    },
    {
     "name": "stdout",
     "output_type": "stream",
     "text": [
      "TessLightCurveFile(TICID: 199376584)\n"
     ]
    },
    {
     "name": "stderr",
     "output_type": "stream",
     "text": [
      "/Users/sarahkane/opt/anaconda3/lib/python3.7/site-packages/lightkurve/lightcurvefile.py:47: LightkurveWarning: `LightCurveFile.header` is deprecated, please use `LightCurveFile.get_header()` instead.\n",
      "  LightkurveWarning)\n"
     ]
    },
    {
     "name": "stdout",
     "output_type": "stream",
     "text": [
      "TessLightCurveFile(TICID: 178155732)\n"
     ]
    },
    {
     "name": "stderr",
     "output_type": "stream",
     "text": [
      "/Users/sarahkane/opt/anaconda3/lib/python3.7/site-packages/lightkurve/lightcurvefile.py:47: LightkurveWarning: `LightCurveFile.header` is deprecated, please use `LightCurveFile.get_header()` instead.\n",
      "  LightkurveWarning)\n"
     ]
    },
    {
     "name": "stdout",
     "output_type": "stream",
     "text": [
      "TessLightCurveFile(TICID: 178155732)\n"
     ]
    },
    {
     "name": "stderr",
     "output_type": "stream",
     "text": [
      "/Users/sarahkane/opt/anaconda3/lib/python3.7/site-packages/lightkurve/lightcurvefile.py:47: LightkurveWarning: `LightCurveFile.header` is deprecated, please use `LightCurveFile.get_header()` instead.\n",
      "  LightkurveWarning)\n"
     ]
    },
    {
     "name": "stdout",
     "output_type": "stream",
     "text": [
      "TessLightCurveFile(TICID: 178155732)\n"
     ]
    },
    {
     "name": "stderr",
     "output_type": "stream",
     "text": [
      "/Users/sarahkane/opt/anaconda3/lib/python3.7/site-packages/lightkurve/lightcurvefile.py:47: LightkurveWarning: `LightCurveFile.header` is deprecated, please use `LightCurveFile.get_header()` instead.\n",
      "  LightkurveWarning)\n"
     ]
    },
    {
     "name": "stdout",
     "output_type": "stream",
     "text": [
      "TessLightCurveFile(TICID: 234994474)\n"
     ]
    },
    {
     "name": "stderr",
     "output_type": "stream",
     "text": [
      "/Users/sarahkane/opt/anaconda3/lib/python3.7/site-packages/lightkurve/search.py:233: LightkurveWarning: Warning: 7 files available to download. Only the first file has been downloaded. Please use `download_all()` or specify additional criteria (e.g. quarter, campaign, or sector) to limit your search.\n",
      "  LightkurveWarning)\n",
      "/Users/sarahkane/opt/anaconda3/lib/python3.7/site-packages/lightkurve/lightcurvefile.py:47: LightkurveWarning: `LightCurveFile.header` is deprecated, please use `LightCurveFile.get_header()` instead.\n",
      "  LightkurveWarning)\n"
     ]
    },
    {
     "name": "stdout",
     "output_type": "stream",
     "text": [
      "TessLightCurveFile(TICID: 307210830)\n"
     ]
    },
    {
     "name": "stderr",
     "output_type": "stream",
     "text": [
      "/Users/sarahkane/opt/anaconda3/lib/python3.7/site-packages/lightkurve/search.py:233: LightkurveWarning: Warning: 7 files available to download. Only the first file has been downloaded. Please use `download_all()` or specify additional criteria (e.g. quarter, campaign, or sector) to limit your search.\n",
      "  LightkurveWarning)\n",
      "/Users/sarahkane/opt/anaconda3/lib/python3.7/site-packages/lightkurve/lightcurvefile.py:47: LightkurveWarning: `LightCurveFile.header` is deprecated, please use `LightCurveFile.get_header()` instead.\n",
      "  LightkurveWarning)\n"
     ]
    },
    {
     "name": "stdout",
     "output_type": "stream",
     "text": [
      "TessLightCurveFile(TICID: 307210830)\n"
     ]
    },
    {
     "name": "stderr",
     "output_type": "stream",
     "text": [
      "/Users/sarahkane/opt/anaconda3/lib/python3.7/site-packages/lightkurve/search.py:233: LightkurveWarning: Warning: 7 files available to download. Only the first file has been downloaded. Please use `download_all()` or specify additional criteria (e.g. quarter, campaign, or sector) to limit your search.\n",
      "  LightkurveWarning)\n",
      "/Users/sarahkane/opt/anaconda3/lib/python3.7/site-packages/lightkurve/lightcurvefile.py:47: LightkurveWarning: `LightCurveFile.header` is deprecated, please use `LightCurveFile.get_header()` instead.\n",
      "  LightkurveWarning)\n"
     ]
    },
    {
     "name": "stdout",
     "output_type": "stream",
     "text": [
      "TessLightCurveFile(TICID: 307210830)\n"
     ]
    },
    {
     "name": "stderr",
     "output_type": "stream",
     "text": [
      "/Users/sarahkane/opt/anaconda3/lib/python3.7/site-packages/lightkurve/search.py:233: LightkurveWarning: Warning: 12 files available to download. Only the first file has been downloaded. Please use `download_all()` or specify additional criteria (e.g. quarter, campaign, or sector) to limit your search.\n",
      "  LightkurveWarning)\n",
      "/Users/sarahkane/opt/anaconda3/lib/python3.7/site-packages/lightkurve/lightcurvefile.py:47: LightkurveWarning: `LightCurveFile.header` is deprecated, please use `LightCurveFile.get_header()` instead.\n",
      "  LightkurveWarning)\n"
     ]
    },
    {
     "name": "stdout",
     "output_type": "stream",
     "text": [
      "TessLightCurveFile(TICID: 260004324)\n"
     ]
    },
    {
     "name": "stderr",
     "output_type": "stream",
     "text": [
      "/Users/sarahkane/opt/anaconda3/lib/python3.7/site-packages/lightkurve/lightcurvefile.py:47: LightkurveWarning: `LightCurveFile.header` is deprecated, please use `LightCurveFile.get_header()` instead.\n",
      "  LightkurveWarning)\n"
     ]
    },
    {
     "name": "stdout",
     "output_type": "stream",
     "text": [
      "TessLightCurveFile(TICID: 410153553)\n"
     ]
    },
    {
     "name": "stderr",
     "output_type": "stream",
     "text": [
      "/Users/sarahkane/opt/anaconda3/lib/python3.7/site-packages/lightkurve/lightcurvefile.py:47: LightkurveWarning: `LightCurveFile.header` is deprecated, please use `LightCurveFile.get_header()` instead.\n",
      "  LightkurveWarning)\n"
     ]
    },
    {
     "name": "stdout",
     "output_type": "stream",
     "text": [
      "TessLightCurveFile(TICID: 181804752)\n"
     ]
    },
    {
     "name": "stderr",
     "output_type": "stream",
     "text": [
      "/Users/sarahkane/opt/anaconda3/lib/python3.7/site-packages/lightkurve/lightcurvefile.py:47: LightkurveWarning: `LightCurveFile.header` is deprecated, please use `LightCurveFile.get_header()` instead.\n",
      "  LightkurveWarning)\n"
     ]
    },
    {
     "name": "stdout",
     "output_type": "stream",
     "text": [
      "TessLightCurveFile(TICID: 181804752)\n"
     ]
    },
    {
     "name": "stderr",
     "output_type": "stream",
     "text": [
      "/Users/sarahkane/opt/anaconda3/lib/python3.7/site-packages/lightkurve/lightcurvefile.py:47: LightkurveWarning: `LightCurveFile.header` is deprecated, please use `LightCurveFile.get_header()` instead.\n",
      "  LightkurveWarning)\n"
     ]
    },
    {
     "name": "stdout",
     "output_type": "stream",
     "text": [
      "TessLightCurveFile(TICID: 98796344)\n"
     ]
    },
    {
     "name": "stderr",
     "output_type": "stream",
     "text": [
      "/Users/sarahkane/opt/anaconda3/lib/python3.7/site-packages/lightkurve/search.py:233: LightkurveWarning: Warning: 13 files available to download. Only the first file has been downloaded. Please use `download_all()` or specify additional criteria (e.g. quarter, campaign, or sector) to limit your search.\n",
      "  LightkurveWarning)\n",
      "/Users/sarahkane/opt/anaconda3/lib/python3.7/site-packages/lightkurve/lightcurvefile.py:47: LightkurveWarning: `LightCurveFile.header` is deprecated, please use `LightCurveFile.get_header()` instead.\n",
      "  LightkurveWarning)\n"
     ]
    },
    {
     "name": "stdout",
     "output_type": "stream",
     "text": [
      "TessLightCurveFile(TICID: 25155310)\n"
     ]
    },
    {
     "name": "stderr",
     "output_type": "stream",
     "text": [
      "/Users/sarahkane/opt/anaconda3/lib/python3.7/site-packages/lightkurve/search.py:233: LightkurveWarning: Warning: 2 files available to download. Only the first file has been downloaded. Please use `download_all()` or specify additional criteria (e.g. quarter, campaign, or sector) to limit your search.\n",
      "  LightkurveWarning)\n",
      "/Users/sarahkane/opt/anaconda3/lib/python3.7/site-packages/lightkurve/lightcurvefile.py:47: LightkurveWarning: `LightCurveFile.header` is deprecated, please use `LightCurveFile.get_header()` instead.\n",
      "  LightkurveWarning)\n"
     ]
    },
    {
     "name": "stdout",
     "output_type": "stream",
     "text": [
      "TessLightCurveFile(TICID: 100100827)\n",
      "TessLightCurveFile(TICID: 261136679)\n"
     ]
    },
    {
     "name": "stderr",
     "output_type": "stream",
     "text": [
      "/Users/sarahkane/opt/anaconda3/lib/python3.7/site-packages/lightkurve/search.py:233: LightkurveWarning: Warning: 6 files available to download. Only the first file has been downloaded. Please use `download_all()` or specify additional criteria (e.g. quarter, campaign, or sector) to limit your search.\n",
      "  LightkurveWarning)\n",
      "/Users/sarahkane/opt/anaconda3/lib/python3.7/site-packages/lightkurve/lightcurvefile.py:47: LightkurveWarning: `LightCurveFile.header` is deprecated, please use `LightCurveFile.get_header()` instead.\n",
      "  LightkurveWarning)\n"
     ]
    }
   ],
   "source": [
    "for name in names:\n",
    "    searchResult = lc.search_lightcurvefile(name,mission='TESS').download()\n",
    "    print(searchResult)\n",
    "    result = searchResult.PDCSAP_FLUX.remove_nans().remove_outliers()\n",
    "    result.to_fits(path = '%s.fits' % name, overwrite = True)\n"
   ]
  },
  {
   "cell_type": "code",
   "execution_count": 5,
   "metadata": {},
   "outputs": [
    {
     "name": "stderr",
     "output_type": "stream",
     "text": [
      "\r",
      "  0%|          | 0/2552 periods | 00:00<?"
     ]
    },
    {
     "name": "stdout",
     "output_type": "stream",
     "text": [
      "Transit Least Squares TLS 1.0.24 (21 November 2019)\n",
      "Creating model cache for 28 durations\n",
      "Searching 18094 data points, 2552 periods from 0.601 to 13.933 days\n",
      "Using all 8 CPU threads\n"
     ]
    },
    {
     "name": "stderr",
     "output_type": "stream",
     "text": [
      "100%|██████████| 2552/2552 periods | 00:10<00:00\n",
      "  0%|          | 0/2614 periods | 00:00<?"
     ]
    },
    {
     "name": "stdout",
     "output_type": "stream",
     "text": [
      "Transit Least Squares TLS 1.0.24 (21 November 2019)\n",
      "Creating model cache for 28 durations\n",
      "Searching 19582 data points, 2614 periods from 0.601 to 14.218 days\n",
      "Using all 8 CPU threads\n"
     ]
    },
    {
     "name": "stderr",
     "output_type": "stream",
     "text": [
      "100%|██████████| 2614/2614 periods | 00:18<00:00\n",
      "  0%|          | 0/2554 periods | 00:00<?"
     ]
    },
    {
     "name": "stdout",
     "output_type": "stream",
     "text": [
      "Transit Least Squares TLS 1.0.24 (21 November 2019)\n",
      "Creating model cache for 28 durations\n",
      "Searching 18101 data points, 2554 periods from 0.601 to 13.94 days\n",
      "Using all 8 CPU threads\n"
     ]
    },
    {
     "name": "stderr",
     "output_type": "stream",
     "text": [
      "100%|██████████| 2554/2554 periods | 00:15<00:00\n",
      "  0%|          | 0/2206 periods | 00:00<?"
     ]
    },
    {
     "name": "stdout",
     "output_type": "stream",
     "text": [
      "Transit Least Squares TLS 1.0.24 (21 November 2019)\n",
      "Creating model cache for 27 durations\n",
      "Searching 13411 data points, 2206 periods from 0.601 to 12.321 days\n",
      "Using all 8 CPU threads\n"
     ]
    },
    {
     "name": "stderr",
     "output_type": "stream",
     "text": [
      "100%|██████████| 2206/2206 periods | 00:11<00:00\n",
      "  5%|▍         | 298/6151 [00:00<00:01, 2962.38it/s]"
     ]
    },
    {
     "name": "stdout",
     "output_type": "stream",
     "text": [
      "Searching for best T0 for period 3.92804 days\n"
     ]
    },
    {
     "name": "stderr",
     "output_type": "stream",
     "text": [
      "100%|██████████| 6151/6151 [00:01<00:00, 3991.09it/s]\n",
      "  0%|          | 0/2554 periods | 00:00<?"
     ]
    },
    {
     "name": "stdout",
     "output_type": "stream",
     "text": [
      "Transit Least Squares TLS 1.0.24 (21 November 2019)\n",
      "Creating model cache for 28 durations\n",
      "Searching 17659 data points, 2554 periods from 0.601 to 13.94 days\n",
      "Using all 8 CPU threads\n"
     ]
    },
    {
     "name": "stderr",
     "output_type": "stream",
     "text": [
      "100%|██████████| 2554/2554 periods | 00:14<00:00\n",
      "  0%|          | 0/1744 periods | 00:00<?"
     ]
    },
    {
     "name": "stdout",
     "output_type": "stream",
     "text": [
      "Transit Least Squares TLS 1.0.24 (21 November 2019)\n",
      "Creating model cache for 26 durations\n",
      "Searching 13452 data points, 1744 periods from 0.601 to 10.133 days\n",
      "Using all 8 CPU threads\n"
     ]
    },
    {
     "name": "stderr",
     "output_type": "stream",
     "text": [
      "100%|██████████| 1744/1744 periods | 00:09<00:00\n",
      "  0%|          | 0/1744 periods | 00:00<?"
     ]
    },
    {
     "name": "stdout",
     "output_type": "stream",
     "text": [
      "Transit Least Squares TLS 1.0.24 (21 November 2019)\n",
      "Creating model cache for 26 durations\n",
      "Searching 13452 data points, 1744 periods from 0.601 to 10.133 days\n",
      "Using all 8 CPU threads\n"
     ]
    },
    {
     "name": "stderr",
     "output_type": "stream",
     "text": [
      "100%|██████████| 1744/1744 periods | 00:08<00:00\n",
      "  0%|          | 0/2552 periods | 00:00<?"
     ]
    },
    {
     "name": "stdout",
     "output_type": "stream",
     "text": [
      "Transit Least Squares TLS 1.0.24 (21 November 2019)\n",
      "Creating model cache for 28 durations\n",
      "Searching 18088 data points, 2552 periods from 0.601 to 13.933 days\n",
      "Using all 8 CPU threads\n"
     ]
    },
    {
     "name": "stderr",
     "output_type": "stream",
     "text": [
      "100%|██████████| 2552/2552 periods | 00:17<00:00\n",
      "  0%|          | 0/2554 periods | 00:00<?"
     ]
    },
    {
     "name": "stdout",
     "output_type": "stream",
     "text": [
      "Transit Least Squares TLS 1.0.24 (21 November 2019)\n",
      "Creating model cache for 28 durations\n",
      "Searching 18096 data points, 2554 periods from 0.601 to 13.94 days\n",
      "Using all 8 CPU threads\n"
     ]
    },
    {
     "name": "stderr",
     "output_type": "stream",
     "text": [
      "100%|██████████| 2554/2554 periods | 00:12<00:00\n",
      "  0%|          | 0/2554 periods | 00:00<?"
     ]
    },
    {
     "name": "stdout",
     "output_type": "stream",
     "text": [
      "Transit Least Squares TLS 1.0.24 (21 November 2019)\n",
      "Creating model cache for 28 durations\n",
      "Searching 18101 data points, 2554 periods from 0.601 to 13.94 days\n",
      "Using all 8 CPU threads\n"
     ]
    },
    {
     "name": "stderr",
     "output_type": "stream",
     "text": [
      "100%|██████████| 2554/2554 periods | 00:14<00:00\n",
      "  0%|          | 0/2554 periods | 00:00<?"
     ]
    },
    {
     "name": "stdout",
     "output_type": "stream",
     "text": [
      "Transit Least Squares TLS 1.0.24 (21 November 2019)\n",
      "Creating model cache for 28 durations\n",
      "Searching 18096 data points, 2554 periods from 0.601 to 13.94 days\n",
      "Using all 8 CPU threads\n"
     ]
    },
    {
     "name": "stderr",
     "output_type": "stream",
     "text": [
      "100%|██████████| 2554/2554 periods | 00:14<00:00\n",
      "  3%|▎         | 215/8078 [00:00<00:03, 2149.48it/s]"
     ]
    },
    {
     "name": "stdout",
     "output_type": "stream",
     "text": [
      "Searching for best T0 for period 6.03348 days\n"
     ]
    },
    {
     "name": "stderr",
     "output_type": "stream",
     "text": [
      "100%|██████████| 8078/8078 [00:02<00:00, 3370.95it/s]\n",
      "  0%|          | 0/2502 periods | 00:00<?"
     ]
    },
    {
     "name": "stdout",
     "output_type": "stream",
     "text": [
      "Transit Least Squares TLS 1.0.24 (21 November 2019)\n",
      "Creating model cache for 28 durations\n",
      "Searching 18313 data points, 2502 periods from 0.601 to 13.702 days\n",
      "Using all 8 CPU threads\n"
     ]
    },
    {
     "name": "stderr",
     "output_type": "stream",
     "text": [
      "100%|██████████| 2502/2502 periods | 00:16<00:00\n",
      "  0%|          | 0/2554 periods | 00:00<?"
     ]
    },
    {
     "name": "stdout",
     "output_type": "stream",
     "text": [
      "Transit Least Squares TLS 1.0.24 (21 November 2019)\n",
      "Creating model cache for 28 durations\n",
      "Searching 18101 data points, 2554 periods from 0.601 to 13.941 days\n",
      "Using all 8 CPU threads\n"
     ]
    },
    {
     "name": "stderr",
     "output_type": "stream",
     "text": [
      "100%|██████████| 2554/2554 periods | 00:15<00:00\n",
      "  2%|▏         | 186/9784 [00:00<00:05, 1855.25it/s]"
     ]
    },
    {
     "name": "stdout",
     "output_type": "stream",
     "text": [
      "Searching for best T0 for period 8.82497 days\n"
     ]
    },
    {
     "name": "stderr",
     "output_type": "stream",
     "text": [
      "100%|██████████| 9784/9784 [00:02<00:00, 3393.78it/s]\n",
      "  0%|          | 0/2554 periods | 00:00<?"
     ]
    },
    {
     "name": "stdout",
     "output_type": "stream",
     "text": [
      "Transit Least Squares TLS 1.0.24 (21 November 2019)\n",
      "Creating model cache for 28 durations\n",
      "Searching 18101 data points, 2554 periods from 0.601 to 13.941 days\n",
      "Using all 8 CPU threads\n"
     ]
    },
    {
     "name": "stderr",
     "output_type": "stream",
     "text": [
      "100%|██████████| 2554/2554 periods | 00:15<00:00\n",
      "  2%|▏         | 227/9784 [00:00<00:04, 2268.23it/s]"
     ]
    },
    {
     "name": "stdout",
     "output_type": "stream",
     "text": [
      "Searching for best T0 for period 8.82497 days\n"
     ]
    },
    {
     "name": "stderr",
     "output_type": "stream",
     "text": [
      "100%|██████████| 9784/9784 [00:02<00:00, 3526.24it/s]\n",
      "  0%|          | 0/2554 periods | 00:00<?"
     ]
    },
    {
     "name": "stdout",
     "output_type": "stream",
     "text": [
      "Transit Least Squares TLS 1.0.24 (21 November 2019)\n",
      "Creating model cache for 28 durations\n",
      "Searching 17252 data points, 2554 periods from 0.601 to 13.94 days\n",
      "Using all 8 CPU threads\n"
     ]
    },
    {
     "name": "stderr",
     "output_type": "stream",
     "text": [
      "100%|██████████| 2554/2554 periods | 00:16<00:00\n",
      "  0%|          | 0/2443 periods | 00:00<?"
     ]
    },
    {
     "name": "stdout",
     "output_type": "stream",
     "text": [
      "Transit Least Squares TLS 1.0.24 (21 November 2019)\n",
      "Creating model cache for 28 durations\n",
      "Searching 13968 data points, 2443 periods from 0.601 to 13.425 days\n",
      "Using all 8 CPU threads\n"
     ]
    },
    {
     "name": "stderr",
     "output_type": "stream",
     "text": [
      "100%|██████████| 2443/2443 periods | 00:10<00:00\n",
      "/Users/sarahkane/opt/anaconda3/lib/python3.7/site-packages/transitleastsquares/main.py:404: UserWarning: 3 of 5 transits without data. The true period may be twice the given period.\n",
      "  warnings.warn(text)\n",
      "  0%|          | 0/2344 periods | 00:00<?"
     ]
    },
    {
     "name": "stdout",
     "output_type": "stream",
     "text": [
      "Transit Least Squares TLS 1.0.24 (21 November 2019)\n",
      "Creating model cache for 28 durations\n",
      "Searching 15773 data points, 2344 periods from 0.601 to 12.966 days\n",
      "Using all 8 CPU threads\n"
     ]
    },
    {
     "name": "stderr",
     "output_type": "stream",
     "text": [
      "100%|██████████| 2344/2344 periods | 00:16<00:00\n",
      "  0%|          | 0/2344 periods | 00:00<?"
     ]
    },
    {
     "name": "stdout",
     "output_type": "stream",
     "text": [
      "Transit Least Squares TLS 1.0.24 (21 November 2019)\n",
      "Creating model cache for 28 durations\n",
      "Searching 15773 data points, 2344 periods from 0.601 to 12.966 days\n",
      "Using all 8 CPU threads\n"
     ]
    },
    {
     "name": "stderr",
     "output_type": "stream",
     "text": [
      "100%|██████████| 2344/2344 periods | 00:15<00:00\n",
      "  0%|          | 0/2344 periods | 00:00<?"
     ]
    },
    {
     "name": "stdout",
     "output_type": "stream",
     "text": [
      "Transit Least Squares TLS 1.0.24 (21 November 2019)\n",
      "Creating model cache for 28 durations\n",
      "Searching 15773 data points, 2344 periods from 0.601 to 12.966 days\n",
      "Using all 8 CPU threads\n"
     ]
    },
    {
     "name": "stderr",
     "output_type": "stream",
     "text": [
      "100%|██████████| 2344/2344 periods | 00:16<00:00\n",
      "  0%|          | 0/2554 periods | 00:00<?"
     ]
    },
    {
     "name": "stdout",
     "output_type": "stream",
     "text": [
      "Transit Least Squares TLS 1.0.24 (21 November 2019)\n",
      "Creating model cache for 28 durations\n",
      "Searching 18102 data points, 2554 periods from 0.601 to 13.94 days\n",
      "Using all 8 CPU threads\n"
     ]
    },
    {
     "name": "stderr",
     "output_type": "stream",
     "text": [
      "100%|██████████| 2554/2554 periods | 00:15<00:00\n",
      "  0%|          | 0/2502 periods | 00:00<?"
     ]
    },
    {
     "name": "stdout",
     "output_type": "stream",
     "text": [
      "Transit Least Squares TLS 1.0.24 (21 November 2019)\n",
      "Creating model cache for 28 durations\n",
      "Searching 18316 data points, 2502 periods from 0.601 to 13.702 days\n",
      "Using all 8 CPU threads\n"
     ]
    },
    {
     "name": "stderr",
     "output_type": "stream",
     "text": [
      "100%|██████████| 2502/2502 periods | 00:14<00:00\n",
      "  6%|▌         | 498/7998 [00:00<00:03, 2389.45it/s]"
     ]
    },
    {
     "name": "stdout",
     "output_type": "stream",
     "text": [
      "Searching for best T0 for period 3.68828 days\n"
     ]
    },
    {
     "name": "stderr",
     "output_type": "stream",
     "text": [
      "100%|██████████| 7998/7998 [00:02<00:00, 3301.81it/s]\n",
      "  0%|          | 0/2502 periods | 00:00<?"
     ]
    },
    {
     "name": "stdout",
     "output_type": "stream",
     "text": [
      "Transit Least Squares TLS 1.0.24 (21 November 2019)\n",
      "Creating model cache for 28 durations\n",
      "Searching 18316 data points, 2502 periods from 0.601 to 13.702 days\n",
      "Using all 8 CPU threads\n"
     ]
    },
    {
     "name": "stderr",
     "output_type": "stream",
     "text": [
      "100%|██████████| 2502/2502 periods | 00:14<00:00\n",
      "  3%|▎         | 218/7998 [00:00<00:03, 2176.88it/s]"
     ]
    },
    {
     "name": "stdout",
     "output_type": "stream",
     "text": [
      "Searching for best T0 for period 3.68828 days\n"
     ]
    },
    {
     "name": "stderr",
     "output_type": "stream",
     "text": [
      "100%|██████████| 7998/7998 [00:02<00:00, 3015.79it/s]\n",
      "  0%|          | 0/2502 periods | 00:00<?"
     ]
    },
    {
     "name": "stdout",
     "output_type": "stream",
     "text": [
      "Transit Least Squares TLS 1.0.24 (21 November 2019)\n",
      "Creating model cache for 28 durations\n",
      "Searching 18316 data points, 2502 periods from 0.601 to 13.702 days\n",
      "Using all 8 CPU threads\n"
     ]
    },
    {
     "name": "stderr",
     "output_type": "stream",
     "text": [
      "100%|██████████| 2502/2502 periods | 00:15<00:00\n",
      "  3%|▎         | 221/7998 [00:00<00:03, 2205.98it/s]"
     ]
    },
    {
     "name": "stdout",
     "output_type": "stream",
     "text": [
      "Searching for best T0 for period 3.68828 days\n"
     ]
    },
    {
     "name": "stderr",
     "output_type": "stream",
     "text": [
      "100%|██████████| 7998/7998 [00:02<00:00, 3375.10it/s]\n",
      "  0%|          | 0/2554 periods | 00:00<?"
     ]
    },
    {
     "name": "stdout",
     "output_type": "stream",
     "text": [
      "Transit Least Squares TLS 1.0.24 (21 November 2019)\n",
      "Creating model cache for 28 durations\n",
      "Searching 18103 data points, 2554 periods from 0.601 to 13.94 days\n",
      "Using all 8 CPU threads\n"
     ]
    },
    {
     "name": "stderr",
     "output_type": "stream",
     "text": [
      "100%|██████████| 2554/2554 periods | 00:13<00:00\n",
      "  0%|          | 0/2554 periods | 00:00<?"
     ]
    },
    {
     "name": "stdout",
     "output_type": "stream",
     "text": [
      "Transit Least Squares TLS 1.0.24 (21 November 2019)\n",
      "Creating model cache for 28 durations\n",
      "Searching 18098 data points, 2554 periods from 0.601 to 13.94 days\n",
      "Using all 8 CPU threads\n"
     ]
    },
    {
     "name": "stderr",
     "output_type": "stream",
     "text": [
      "100%|██████████| 2554/2554 periods | 00:15<00:00\n",
      "  0%|          | 0/2159 periods | 00:00<?"
     ]
    },
    {
     "name": "stdout",
     "output_type": "stream",
     "text": [
      "Transit Least Squares TLS 1.0.24 (21 November 2019)\n",
      "Creating model cache for 27 durations\n",
      "Searching 15946 data points, 2159 periods from 0.601 to 12.101 days\n",
      "Using all 8 CPU threads\n"
     ]
    },
    {
     "name": "stderr",
     "output_type": "stream",
     "text": [
      "100%|██████████| 2159/2159 periods | 00:11<00:00\n",
      "  3%|▎         | 300/9782 [00:00<00:03, 2992.82it/s]"
     ]
    },
    {
     "name": "stdout",
     "output_type": "stream",
     "text": [
      "Searching for best T0 for period 4.98985 days\n"
     ]
    },
    {
     "name": "stderr",
     "output_type": "stream",
     "text": [
      "100%|██████████| 9782/9782 [00:02<00:00, 4099.69it/s]\n",
      "  0%|          | 0/2159 periods | 00:00<?"
     ]
    },
    {
     "name": "stdout",
     "output_type": "stream",
     "text": [
      "Transit Least Squares TLS 1.0.24 (21 November 2019)\n",
      "Creating model cache for 27 durations\n",
      "Searching 15946 data points, 2159 periods from 0.601 to 12.101 days\n",
      "Using all 8 CPU threads\n"
     ]
    },
    {
     "name": "stderr",
     "output_type": "stream",
     "text": [
      "100%|██████████| 2159/2159 periods | 00:11<00:00\n",
      "  3%|▎         | 336/9782 [00:00<00:02, 3347.70it/s]"
     ]
    },
    {
     "name": "stdout",
     "output_type": "stream",
     "text": [
      "Searching for best T0 for period 4.98985 days\n"
     ]
    },
    {
     "name": "stderr",
     "output_type": "stream",
     "text": [
      "100%|██████████| 9782/9782 [00:02<00:00, 4089.23it/s]\n",
      "  0%|          | 0/2344 periods | 00:00<?"
     ]
    },
    {
     "name": "stdout",
     "output_type": "stream",
     "text": [
      "Transit Least Squares TLS 1.0.24 (21 November 2019)\n",
      "Creating model cache for 28 durations\n",
      "Searching 15786 data points, 2344 periods from 0.601 to 12.967 days\n",
      "Using all 8 CPU threads\n"
     ]
    },
    {
     "name": "stderr",
     "output_type": "stream",
     "text": [
      "100%|██████████| 2344/2344 periods | 00:12<00:00\n",
      "  0%|          | 0/2554 periods | 00:00<?"
     ]
    },
    {
     "name": "stdout",
     "output_type": "stream",
     "text": [
      "Transit Least Squares TLS 1.0.24 (21 November 2019)\n",
      "Creating model cache for 28 durations\n",
      "Searching 18077 data points, 2554 periods from 0.601 to 13.94 days\n",
      "Using all 8 CPU threads\n"
     ]
    },
    {
     "name": "stderr",
     "output_type": "stream",
     "text": [
      "100%|██████████| 2554/2554 periods | 00:16<00:00\n",
      "  0%|          | 0/2502 periods | 00:00<?"
     ]
    },
    {
     "name": "stdout",
     "output_type": "stream",
     "text": [
      "Transit Least Squares TLS 1.0.24 (21 November 2019)\n",
      "Creating model cache for 28 durations\n",
      "Searching 18316 data points, 2502 periods from 0.601 to 13.702 days\n",
      "Using all 8 CPU threads\n"
     ]
    },
    {
     "name": "stderr",
     "output_type": "stream",
     "text": [
      "100%|██████████| 2502/2502 periods | 00:18<00:00\n",
      "  0%|          | 0/2554 periods | 00:00<?"
     ]
    },
    {
     "name": "stdout",
     "output_type": "stream",
     "text": [
      "Transit Least Squares TLS 1.0.24 (21 November 2019)\n",
      "Creating model cache for 28 durations\n",
      "Searching 18035 data points, 2554 periods from 0.601 to 13.94 days\n",
      "Using all 8 CPU threads\n"
     ]
    },
    {
     "name": "stderr",
     "output_type": "stream",
     "text": [
      "100%|██████████| 2554/2554 periods | 00:12<00:00\n"
     ]
    },
    {
     "ename": "NameError",
     "evalue": "name 'numpy' is not defined",
     "output_type": "error",
     "traceback": [
      "\u001b[0;31m---------------------------------------------------------------------------\u001b[0m",
      "\u001b[0;31mNameError\u001b[0m                                 Traceback (most recent call last)",
      "\u001b[0;32m<ipython-input-5-049ab3ce8424>\u001b[0m in \u001b[0;36m<module>\u001b[0;34m\u001b[0m\n\u001b[1;32m     11\u001b[0m     \u001b[0mresultsList\u001b[0m\u001b[0;34m.\u001b[0m\u001b[0mappend\u001b[0m\u001b[0;34m(\u001b[0m\u001b[0mresults\u001b[0m\u001b[0;34m)\u001b[0m\u001b[0;34m\u001b[0m\u001b[0;34m\u001b[0m\u001b[0m\n\u001b[1;32m     12\u001b[0m \u001b[0;34m\u001b[0m\u001b[0m\n\u001b[0;32m---> 13\u001b[0;31m \u001b[0mresutsArray\u001b[0m \u001b[0;34m=\u001b[0m \u001b[0mnumpy\u001b[0m\u001b[0;34m.\u001b[0m\u001b[0masarray\u001b[0m\u001b[0;34m(\u001b[0m\u001b[0mresultsList\u001b[0m\u001b[0;34m)\u001b[0m\u001b[0;34m\u001b[0m\u001b[0;34m\u001b[0m\u001b[0m\n\u001b[0m\u001b[1;32m     14\u001b[0m \u001b[0;34m\u001b[0m\u001b[0m\n\u001b[1;32m     15\u001b[0m \u001b[0mnumpy\u001b[0m\u001b[0;34m.\u001b[0m\u001b[0msave\u001b[0m\u001b[0;34m(\u001b[0m\u001b[0;34m'TESSPlanetsResultsz.npy'\u001b[0m\u001b[0;34m,\u001b[0m\u001b[0mresutsArray\u001b[0m\u001b[0;34m)\u001b[0m\u001b[0;34m\u001b[0m\u001b[0;34m\u001b[0m\u001b[0m\n",
      "\u001b[0;31mNameError\u001b[0m: name 'numpy' is not defined"
     ]
    }
   ],
   "source": [
    "resultsList = []\n",
    "\n",
    "for name in names:\n",
    "    hdu = fits.open('%s.fits' % name)\n",
    "    time = hdu[1].data['TIME']\n",
    "    flux = hdu[1].data['FLUX']\n",
    "    time, flux = cleaned_array(time, flux)  # remove invalid values such as nan, inf, non, negative\n",
    "    flux = flux / np.median(flux)\n",
    "    model = transitleastsquares(time, flux)\n",
    "    results = model.power()\n",
    "    resultsList.append(results)\n",
    "\n",
    "resutsArray = np.asarray(resultsList)\n",
    "\n",
    "np.save('TESSPlanetsResultsz.npy',resutsArray)"
   ]
  },
  {
   "cell_type": "code",
   "execution_count": 6,
   "metadata": {},
   "outputs": [],
   "source": [
    "resutsArray = np.asarray(resultsList)\n",
    "\n",
    "np.save('TESSPlanetsResultsz.npy',resutsArray)"
   ]
  },
  {
   "cell_type": "code",
   "execution_count": 10,
   "metadata": {},
   "outputs": [
    {
     "name": "stdout",
     "output_type": "stream",
     "text": [
      "31\n"
     ]
    }
   ],
   "source": [
    "# import data\n",
    "\n",
    "from scipy import stats\n",
    "%matplotlib inline\n",
    "\n",
    "falsedata = np.load('falsepositive300.npy',allow_pickle=True)\n",
    "falsedata_short = falsedata[:31]\n",
    "\n",
    "TESSdata = np.load('TESSPlanetsResultsz.npy',allow_pickle=True)\n",
    "\n",
    "print(len(TESSdata))"
   ]
  },
  {
   "cell_type": "code",
   "execution_count": 14,
   "metadata": {},
   "outputs": [
    {
     "name": "stderr",
     "output_type": "stream",
     "text": [
      "/Users/sarahkane/opt/anaconda3/lib/python3.7/site-packages/ipykernel_launcher.py:34: UserWarning: p-value floored: true value smaller than 0.001\n"
     ]
    },
    {
     "data": {
      "image/png": "[encoded data removed]",
      "text/plain": [
       "<Figure size 432x288 with 1 Axes>"
      ]
     },
     "metadata": {
      "needs_background": "light"
     },
     "output_type": "display_data"
    }
   ],
   "source": [
    "binList = np.arange(0.0,13.0,0.5)\n",
    "periodvals = []\n",
    "binNumbers = []\n",
    "\n",
    "for i in range(1,len(binList)-1):\n",
    "    periodvals.append(binList[i] + (binList[i+1]-binList[i])/2)\n",
    "    binNumbers.append(i)\n",
    "    \n",
    "falselists = {}\n",
    "\n",
    "for i in range(1,len(binList)-1):\n",
    "    SDEbin =  np.zeros(0,float)\n",
    "    for j in range(0,len(falsedata)):\n",
    "        period = falsedata[j].periods\n",
    "        SDEs = falsedata[j].power\n",
    "        powerBin = SDEs[(period >= binList[i]) & (period < binList[i+1])]\n",
    "        SDEbin = np.append(SDEbin,powerBin)\n",
    "    falselists['list_%s' % i] = SDEbin\n",
    "    \n",
    "TESSlists = {}    \n",
    "\n",
    "for i in range(0,len(binList)-1):\n",
    "    SDEbin =  np.zeros(0,float)\n",
    "    for j in range(0,len(TESSdata)):\n",
    "        period = TESSdata[j].periods\n",
    "        SDEs = TESSdata[j].power\n",
    "        powerBin = SDEs[(period >= binList[i]) & (period < binList[i+1])]\n",
    "        SDEbin = np.append(SDEbin,powerBin)\n",
    "    TESSlists['list_%s' % i] = SDEbin\n",
    "\n",
    "ADvals = []\n",
    "\n",
    "for i in range(1,len(binList)-1):\n",
    "    ADvals.append(stats.anderson_ksamp([TESSlists['list_%s' % i],falselists['list_%s' % i]])[2])\n",
    "\n",
    "plt.figure()\n",
    "plt.plot(periodvals,ADvals,\"b.\")\n",
    "plt.xlabel(\"Period (d)\")\n",
    "plt.ylabel(\"Anderson-Darling P-Value\")\n",
    "plt.title(\"A-D P-Value Versus Period witg TESS Planets\")\n",
    "plt.show()"
   ]
  },
  {
   "cell_type": "code",
   "execution_count": 17,
   "metadata": {},
   "outputs": [
    {
     "name": "stderr",
     "output_type": "stream",
     "text": [
      "/Users/sarahkane/opt/anaconda3/lib/python3.7/site-packages/ipykernel_launcher.py:15: UserWarning: p-value floored: true value smaller than 0.001\n",
      "  from ipykernel import kernelapp as app\n"
     ]
    },
    {
     "data": {
      "image/png": "[encoded data removed]",
      "text/plain": [
       "<Figure size 432x288 with 1 Axes>"
      ]
     },
     "metadata": {
      "needs_background": "light"
     },
     "output_type": "display_data"
    }
   ],
   "source": [
    "falselists_short = {}\n",
    "\n",
    "for i in range(1,len(binList)-1):\n",
    "    SDEbin =  np.zeros(0,float)\n",
    "    for j in range(0,len(falsedata_short)):\n",
    "        period = falsedata_short[j].periods\n",
    "        SDEs = falsedata_short[j].power\n",
    "        powerBin = SDEs[(period >= binList[i]) & (period < binList[i+1])]\n",
    "        SDEbin = np.append(SDEbin,powerBin)\n",
    "    falselists_short['list_%s' % i] = SDEbin\n",
    "    \n",
    "ADvals_short = []\n",
    "\n",
    "for i in range(1,len(binList)-1):\n",
    "    ADvals_short.append(stats.anderson_ksamp([TESSlists['list_%s' % i],falselists_short['list_%s' % i]])[2])\n",
    "\n",
    "plt.figure()\n",
    "plt.plot(periodvals,ADvals_short,\"b.\")\n",
    "plt.xlabel(\"Period (d)\")\n",
    "plt.ylabel(\"Anderson-Darling P-Value\")\n",
    "plt.title(\"A-D P-Value Versus Period witg TESS Planets, Euqual Sized Samplees\")\n",
    "plt.show()"
   ]
  },
  {
   "cell_type": "code",
   "execution_count": 27,
   "metadata": {},
   "outputs": [
    {
     "name": "stderr",
     "output_type": "stream",
     "text": [
      "/Users/sarahkane/opt/anaconda3/lib/python3.7/site-packages/ipykernel_launcher.py:33: UserWarning: p-value floored: true value smaller than 0.001\n",
      "/Users/sarahkane/opt/anaconda3/lib/python3.7/site-packages/ipykernel_launcher.py:33: UserWarning: p-value capped: true value larger than 0.25\n"
     ]
    },
    {
     "data": {
      "image/png": "[encoded data removed]",
      "text/plain": [
       "<Figure size 432x288 with 1 Axes>"
      ]
     },
     "metadata": {
      "needs_background": "light"
     },
     "output_type": "display_data"
    }
   ],
   "source": [
    "# running tests with only max SDE values\n",
    "\n",
    "maxfalselists = {}\n",
    "\n",
    "for i in range(1,len(binList)-1):\n",
    "    maxfalselists['list_%s' % i] = []\n",
    "    for data in falsedata:\n",
    "        if(binList[i] <= data.period < binList[i+1]):\n",
    "            maxfalselists['list_%s' % i].append(data.SDE)\n",
    "    \n",
    "maxfalselists_short = {}\n",
    "\n",
    "for i in range(1,len(binList)-1):\n",
    "    maxfalselists_short['list_%s' % i] = []\n",
    "    for data in falsedata_short:\n",
    "        if(binList[i] <= data.period < binList[i+1]):\n",
    "            maxfalselists_short['list_%s' % i].append(data.SDE)\n",
    "    \n",
    "maxlists = {}\n",
    "\n",
    "for i in range(1,len(binList)-1):\n",
    "    maxlists['list_%s' % i] = []\n",
    "    for data in TESSdata:\n",
    "        if(binList[i] <= data.period < binList[i+1]):\n",
    "            maxlists['list_%s' % i].append(data.SDE)\n",
    "\n",
    "maxADvals = []\n",
    "\n",
    "for i in range(1,len(binList)-1):\n",
    "    if not maxlists['list_%s' % i]:\n",
    "        maxADvals.append(0.26)\n",
    "    else:\n",
    "        maxADvals.append(stats.anderson_ksamp([maxlists['list_%s' % i],maxfalselists['list_%s' % i]])[2])   \n",
    "        \n",
    "plt.figure()\n",
    "plt.plot(periodvals,maxADvals,\"b.\")\n",
    "plt.xlabel(\"Period (d)\")\n",
    "plt.ylabel(\"Anderson-Darling P-Value\")\n",
    "plt.title(\"Max SDE A-D P-Value Versus Period with TESS Planets\")\n",
    "plt.show()\n"
   ]
  },
  {
   "cell_type": "code",
   "execution_count": 28,
   "metadata": {},
   "outputs": [
    {
     "name": "stderr",
     "output_type": "stream",
     "text": [
      "/Users/sarahkane/opt/anaconda3/lib/python3.7/site-packages/ipykernel_launcher.py:26: UserWarning: p-value floored: true value smaller than 0.001\n"
     ]
    },
    {
     "data": {
      "image/png": "[encoded data removed]",
      "text/plain": [
       "<Figure size 432x288 with 1 Axes>"
      ]
     },
     "metadata": {
      "needs_background": "light"
     },
     "output_type": "display_data"
    }
   ],
   "source": [
    "binMaxfalselists = {}\n",
    "\n",
    "for i in range(1,len(binList)-1):\n",
    "    SDEbin =  np.zeros(0,float)\n",
    "    for j in range(0,len(falsedata)):\n",
    "        period = falsedata[j].periods\n",
    "        SDEs = falsedata[j].power\n",
    "        powerBin = SDEs[(period >= binList[i]) & (period < binList[i+1])]\n",
    "        SDEbin = np.append(SDEbin,powerBin)\n",
    "    binMaxfalselists['list_%s' % i] = SDEbin\n",
    "    \n",
    "binMaxTESSlists = {}    \n",
    "\n",
    "for i in range(0,len(binList)-1):\n",
    "    SDEbin =  np.zeros(0,float)\n",
    "    for j in range(0,len(TESSdata)):\n",
    "        period = TESSdata[j].periods\n",
    "        SDEs = TESSdata[j].power\n",
    "        powerBin = SDEs[(period >= binList[i]) & (period < binList[i+1])]\n",
    "        SDEbin = np.append(SDEbin,powerBin)\n",
    "    binMaxTESSlists['list_%s' % i] = SDEbin\n",
    "\n",
    "binMaxADvals = []\n",
    "\n",
    "for i in range(1,len(binList)-1):\n",
    "    binMaxADvals.append(stats.anderson_ksamp([binMaxTESSlists['list_%s' % i],binMaxfalselists['list_%s' % i]])[2])\n",
    "\n",
    "plt.figure()\n",
    "plt.plot(periodvals,binMaxADvals,\"b.\")\n",
    "plt.xlabel(\"Period (d)\")\n",
    "plt.ylabel(\"Anderson-Darling P-Value\")\n",
    "plt.title(\"Bin Max A-D P-Value Versus Period with TESS Planets\")\n",
    "plt.show()\n"
   ]
  },
  {
   "cell_type": "code",
   "execution_count": 25,
   "metadata": {},
   "outputs": [
    {
     "name": "stderr",
     "output_type": "stream",
     "text": [
      "/Users/sarahkane/opt/anaconda3/lib/python3.7/site-packages/ipykernel_launcher.py:15: UserWarning: p-value floored: true value smaller than 0.001\n",
      "  from ipykernel import kernelapp as app\n"
     ]
    },
    {
     "data": {
      "image/png": "[encoded data removed]",
      "text/plain": [
       "<Figure size 432x288 with 1 Axes>"
      ]
     },
     "metadata": {
      "needs_background": "light"
     },
     "output_type": "display_data"
    }
   ],
   "source": [
    "binMaxfalselists_short = {}\n",
    "\n",
    "for i in range(1,len(binList)-1):\n",
    "    SDEbin =  np.zeros(0,float)\n",
    "    for j in range(0,len(falsedata_short)):\n",
    "        period = falsedata_short[j].periods\n",
    "        SDEs = falsedata_short[j].power\n",
    "        powerBin = SDEs[(period >= binList[i]) & (period < binList[i+1])]\n",
    "        SDEbin = np.append(SDEbin,powerBin)\n",
    "    binMaxfalselists_short['list_%s' % i] = SDEbin\n",
    "    \n",
    "binMaxADvals_short = []\n",
    "\n",
    "for i in range(1,len(binList)-1):\n",
    "    binMaxADvals_short.append(stats.anderson_ksamp([binMaxTESSlists['list_%s' % i],binMaxfalselists_short['list_%s' % i]])[2])\n",
    "\n",
    "plt.figure()\n",
    "plt.plot(periodvals,binMaxADvals_short,\"b.\")\n",
    "plt.xlabel(\"Period (d)\")\n",
    "plt.ylabel(\"Anderson-Darling P-Value\")\n",
    "plt.title(\"Bin Max A-D P-Value Versus Period witg TESS Planets, Euqual Sized Samples\")\n",
    "plt.show()"
   ]
  },
  {
   "cell_type": "code",
   "execution_count": null,
   "metadata": {},
   "outputs": [],
   "source": []
  }
 ],
 "metadata": {
  "kernelspec": {
   "display_name": "Python 3",
   "language": "python",
   "name": "python3"
  },
  "language_info": {
   "codemirror_mode": {
    "name": "ipython",
    "version": 3
   },
   "file_extension": ".py",
   "mimetype": "text/x-python",
   "name": "python",
   "nbconvert_exporter": "python",
   "pygments_lexer": "ipython3",
   "version": "3.7.4"
  }
 },
 "nbformat": 4,
 "nbformat_minor": 2
}
