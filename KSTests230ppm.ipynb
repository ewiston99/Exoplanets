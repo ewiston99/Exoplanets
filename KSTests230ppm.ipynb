{
 "cells": [
  {
   "cell_type": "markdown",
   "metadata": {},
   "source": [
    "Naming scheme: The number in the list / file names deneotes the radius of the planet in the transit (ex. 1.75 REarth transits -> truelists175, etc.). All simulated transits aree generated in the period range 4 -10 d with thee exceeeption of the \"long\" files, which have periods in a larger range of 4 - 30 d."
   ]
  },
  {
   "cell_type": "code",
   "execution_count": 1,
   "metadata": {},
   "outputs": [],
   "source": [
    "import numpy as np\n",
    "import matplotlib.pyplot as plt\n",
    "from scipy import stats\n",
    "%matplotlib inline\n",
    "\n",
    "# import data\n",
    "falsedata = np.load('falsepositive230.npy',allow_pickle=True) # false positive data (no transits)\n",
    "truedata3 = np.load('3RETransits230ppm.npy',allow_pickle=True) # results with transits, R = 3 REarth"
   ]
  },
  {
   "cell_type": "code",
   "execution_count": 2,
   "metadata": {},
   "outputs": [],
   "source": [
    "falselists = {} # dictionary for lists of binned SDEs for false positive data\n",
    "truelists3 = {} # dictionary for lists of binned SDEs for true positive data\n",
    "binList = np.arange(0.0,13.0,0.5) # values for the borders of the period bins with width 0.5 d\n",
    "\n",
    "for i in range(0,len(binList)-1):\n",
    "    SDEbin =  np.zeros(0,float) # array to store SDE values from each period bin\n",
    "    # bin and save the SDEs by period fr every result in the false positive sample\n",
    "    for j in range(0,len(falsedata)):\n",
    "        period = falsedata[j].periods # periods from periodogram for each result in sample\n",
    "        SDEs = falsedata[j].power # SDEs from periodograms for each result in sample\n",
    "        powerBin = SDEs[(period >= binList[i]) & (period < binList[i+1])] # save SDEs in desired period range using array masking\n",
    "        SDEbin = np.append(SDEbin,powerBin) # add to list of SDEs in this bin from all other light curves in sample so far\n",
    "    falselists['list_%s' % i] = SDEbin # save results to dictionary\n",
    "    \n",
    "    # repeat same steps for true positive data\n",
    "    SDEbin =  np.zeros(0,float)\n",
    "    for k in range(0,len(truedata3)):\n",
    "        period = truedata3[k].periods\n",
    "        SDEs = truedata3[k].power\n",
    "        powerBin = SDEs[(period >= binList[i]) & (period < binList[i+1])]\n",
    "        SDEbin = np.append(SDEbin,powerBin)\n",
    "    truelists3['list_%s' % i] = SDEbin"
   ]
  },
  {
   "cell_type": "code",
   "execution_count": 4,
   "metadata": {},
   "outputs": [
    {
     "name": "stdout",
     "output_type": "stream",
     "text": [
      "Ks_2sampResult(statistic=0.31628905268905266, pvalue=0.0)\n",
      "Ks_2sampResult(statistic=0.299560917300279, pvalue=0.0)\n",
      "Ks_2sampResult(statistic=0.2866927011044658, pvalue=0.0)\n",
      "Ks_2sampResult(statistic=0.26949564949564947, pvalue=0.0)\n",
      "Ks_2sampResult(statistic=0.25757532726524973, pvalue=0.0)\n",
      "Ks_2sampResult(statistic=0.24470990220990219, pvalue=0.0)\n",
      "Ks_2sampResult(statistic=0.246642524877819, pvalue=0.0)\n",
      "Ks_2sampResult(statistic=0.2291852964075186, pvalue=5.03731921335155e-299)\n",
      "Ks_2sampResult(statistic=0.2078022466911356, pvalue=3.2102834566184463e-215)\n",
      "Ks_2sampResult(statistic=0.20884236087939792, pvalue=2.207026372159149e-186)\n",
      "Ks_2sampResult(statistic=0.18704954954954955, pvalue=5.048026399926793e-133)\n",
      "Ks_2sampResult(statistic=0.2054503340549852, pvalue=9.887056383938954e-144)\n",
      "Ks_2sampResult(statistic=0.17211339544672877, pvalue=1.2133142994672693e-91)\n",
      "Ks_2sampResult(statistic=0.19175060775060773, pvalue=4.943404184252088e-102)\n",
      "Ks_2sampResult(statistic=0.1549701216367883, pvalue=5.337128913353342e-63)\n",
      "Ks_2sampResult(statistic=0.1555945945945946, pvalue=9.045884752196249e-58)\n",
      "Ks_2sampResult(statistic=0.14112927742557374, pvalue=6.934560533627326e-43)\n",
      "Ks_2sampResult(statistic=0.14687456687456688, pvalue=1.0395509875541915e-44)\n",
      "Ks_2sampResult(statistic=0.1655385820603212, pvalue=3.449994791861014e-50)\n",
      "Ks_2sampResult(statistic=0.1808395351873613, pvalue=8.190361314076912e-60)\n",
      "Ks_2sampResult(statistic=0.1500190666857334, pvalue=9.662644866726543e-38)\n",
      "Ks_2sampResult(statistic=0.16793425003951312, pvalue=9.858982476799112e-43)\n",
      "Ks_2sampResult(statistic=0.19450977293082558, pvalue=3.5006144389885024e-57)\n",
      "Ks_2sampResult(statistic=0.18097097097097098, pvalue=5.702872004043882e-47)\n"
     ]
    }
   ],
   "source": [
    "periodvals = [] # values of periods for the plot\n",
    "pvals3 = [] # list of p-values from K-S test for each period bin\n",
    "\n",
    "# perform K-S test for each period bin bin\n",
    "for i in range(1,len(binList)-1):\n",
    "    periodvals.append(binList[i] + (binList[i+1]-binList[i])/2) # period values on figure are at center of each bin\n",
    "    pvals3.append(stats.ks_2samp(truelists3['list_%s' % i],falselists['list_%s' % i],alternative='two-sided')[1])\n",
    "    print(stats.ks_2samp(truelists3['list_%s' % i],falselists['list_%s' % i],alternative='two-sided'))"
   ]
  },
  {
   "cell_type": "code",
   "execution_count": 5,
   "metadata": {},
   "outputs": [
    {
     "data": {
      "text/plain": [
       "Text(0.5, 1.0, 'P-Value Versus Period, 3 REarth, 230 ppm')"
      ]
     },
     "execution_count": 5,
     "metadata": {},
     "output_type": "execute_result"
    },
    {
     "data": {
      "image/png": "[encoded data removed]",
      "text/plain": [
       "<Figure size 432x288 with 1 Axes>"
      ]
     },
     "metadata": {
      "needs_background": "light"
     },
     "output_type": "display_data"
    }
   ],
   "source": [
    "# plot the results\n",
    "\n",
    "plt.plot(periodvals,pvals3,\"b.\")\n",
    "plt.xlabel(\"Period (d)\")\n",
    "plt.ylabel(\"KS-Test P-Value\")\n",
    "plt.title(\"P-Value Versus Period, 3 REarth, 230 ppm\")"
   ]
  },
  {
   "cell_type": "code",
   "execution_count": 6,
   "metadata": {},
   "outputs": [
    {
     "name": "stdout",
     "output_type": "stream",
     "text": [
      "Ks_2sampResult(statistic=0.1111954681954682, pvalue=0.0)\n",
      "Ks_2sampResult(statistic=0.10989241901475945, pvalue=0.0)\n",
      "Ks_2sampResult(statistic=0.10647702324172913, pvalue=1.804128292670568e-213)\n",
      "Ks_2sampResult(statistic=0.0983794445332907, pvalue=1.4323426940137865e-129)\n",
      "Ks_2sampResult(statistic=0.08785203808459621, pvalue=4.91412801371997e-79)\n",
      "Ks_2sampResult(statistic=0.08729055979055977, pvalue=5.411996989390293e-63)\n",
      "Ks_2sampResult(statistic=0.06586515927692405, pvalue=1.5357356580422946e-29)\n",
      "Ks_2sampResult(statistic=0.06406809587365142, pvalue=9.258578737446986e-24)\n",
      "Ks_2sampResult(statistic=0.05539475983920429, pvalue=1.0897403348461906e-15)\n",
      "Ks_2sampResult(statistic=0.04582601119638158, pvalue=2.225270588180299e-09)\n",
      "Ks_2sampResult(statistic=0.04045524691358027, pvalue=1.2544123229809415e-06)\n",
      "Ks_2sampResult(statistic=0.04746234606699723, pvalue=4.4979118087726004e-08)\n",
      "Ks_2sampResult(statistic=0.05131131131131128, pvalue=1.5623981838671358e-08)\n",
      "Ks_2sampResult(statistic=0.029372801372801405, pvalue=0.008257333861980357)\n",
      "Ks_2sampResult(statistic=0.03504959504959504, pvalue=0.001259517192471444)\n",
      "Ks_2sampResult(statistic=0.047870203536870215, pvalue=7.466277951165382e-06)\n",
      "Ks_2sampResult(statistic=0.03798353909465013, pvalue=0.0016802787925976072)\n",
      "Ks_2sampResult(statistic=0.03990952490952493, pvalue=0.001074793502942921)\n",
      "Ks_2sampResult(statistic=0.045252208730469534, pvalue=0.0003822469706256521)\n",
      "Ks_2sampResult(statistic=0.032770161465813574, pvalue=0.022432800612860387)\n",
      "Ks_2sampResult(statistic=0.032457695791029084, pvalue=0.035830535521177445)\n",
      "Ks_2sampResult(statistic=0.015938043306464422, pvalue=0.7726213931986539)\n",
      "Ks_2sampResult(statistic=0.02597492229071177, pvalue=0.19430412536556105)\n",
      "Ks_2sampResult(statistic=0.07996218440662883, pvalue=1.6366631022217008e-09)\n"
     ]
    },
    {
     "data": {
      "text/plain": [
       "Text(0.5, 1.0, 'P-Value Versus Period, 2 REarth, 230 ppm')"
      ]
     },
     "execution_count": 6,
     "metadata": {},
     "output_type": "execute_result"
    },
    {
     "data": {
      "image/png": "[encoded data removed]",
      "text/plain": [
       "<Figure size 432x288 with 1 Axes>"
      ]
     },
     "metadata": {
      "needs_background": "light"
     },
     "output_type": "display_data"
    }
   ],
   "source": [
    "# repeat steps for sampeles with other transit parameters\n",
    "\n",
    "truedata2 = np.load('2RETransits230ppm.npy',allow_pickle=True) # planets in this sample have radius 2 REarth\n",
    "\n",
    "truelists2 = {}\n",
    "\n",
    "for i in range(0,len(binList)-1):\n",
    "\n",
    "    SDEbin =  np.zeros(0,float)\n",
    "    for k in range(0,len(truedata2)):\n",
    "        period = truedata2[k].periods\n",
    "        SDEs = truedata2[k].power\n",
    "        powerBin = SDEs[(period >= binList[i]) & (period < binList[i+1])]\n",
    "        SDEbin = np.append(SDEbin,powerBin)\n",
    "    truelists2['list_%s' % i] = SDEbin\n",
    "\n",
    "pvals2 = []\n",
    "\n",
    "for i in range(1,len(binList)-1):\n",
    "    pvals2.append(stats.ks_2samp(truelists2['list_%s' % i],falselists['list_%s' % i],alternative='two-sided')[1])\n",
    "    print(stats.ks_2samp(truelists2['list_%s' % i],falselists['list_%s' % i],alternative='two-sided'))\n",
    "\n",
    "\n",
    "plt.plot(periodvals,pvals2,\"b.\")\n",
    "plt.xlabel(\"Period (d)\")\n",
    "plt.ylabel(\"KS-Test P-Value\")\n",
    "plt.title(\"P-Value Versus Period, 2 REarth, 230 ppm\")"
   ]
  },
  {
   "cell_type": "code",
   "execution_count": 39,
   "metadata": {},
   "outputs": [
    {
     "name": "stdout",
     "output_type": "stream",
     "text": [
      "Ks_2sampResult(statistic=0.05277728637728636, pvalue=2.1970003189331758e-121)\n",
      "Ks_2sampResult(statistic=0.05350555342576621, pvalue=2.0467341019957086e-85)\n",
      "Ks_2sampResult(statistic=0.048123838123838136, pvalue=6.052895275348572e-44)\n",
      "Ks_2sampResult(statistic=0.04253969946277637, pvalue=1.4267176132319247e-24)\n",
      "Ks_2sampResult(statistic=0.039073957678608884, pvalue=5.629231481081542e-16)\n",
      "Ks_2sampResult(statistic=0.03447457072457083, pvalue=3.482197608224371e-10)\n",
      "Ks_2sampResult(statistic=0.03928752281693457, pvalue=8.754053088260474e-11)\n",
      "Ks_2sampResult(statistic=0.02029376598821042, pvalue=0.009116382004720367)\n",
      "Ks_2sampResult(statistic=0.015729221284776843, pvalue=0.11756675115559315)\n",
      "Ks_2sampResult(statistic=0.03183387090794498, pvalue=9.557042473617968e-05)\n",
      "Ks_2sampResult(statistic=0.026497747747747713, pvalue=0.0043656822202985295)\n",
      "Ks_2sampResult(statistic=0.03220825476639433, pvalue=0.0006012647455441848)\n",
      "Ks_2sampResult(statistic=0.0404807371474038, pvalue=1.799173813359911e-05)\n",
      "Ks_2sampResult(statistic=0.016393822393822477, pvalue=0.3595498295918704)\n",
      "Ks_2sampResult(statistic=0.028014074680741352, pvalue=0.018040151276896108)\n",
      "Ks_2sampResult(statistic=0.028644978311644975, pvalue=0.02277501181210014)\n",
      "Ks_2sampResult(statistic=0.049075371667964274, pvalue=1.4683402160733068e-05)\n",
      "Ks_2sampResult(statistic=0.06109956109956116, pvalue=4.3396141459877225e-08)\n",
      "Ks_2sampResult(statistic=0.045408887148017496, pvalue=0.00036020420807085025)\n",
      "Ks_2sampResult(statistic=0.03826652739696218, pvalue=0.0043837734485810435)\n",
      "Ks_2sampResult(statistic=0.06922112588779256, pvalue=2.2714742096459784e-08)\n",
      "Ks_2sampResult(statistic=0.05088351509404142, pvalue=0.0002611766604259462)\n",
      "Ks_2sampResult(statistic=0.05241820768136557, pvalue=0.00015104468385026266)\n",
      "Ks_2sampResult(statistic=0.12686353019686358, pvalue=2.677708983536794e-23)\n"
     ]
    },
    {
     "data": {
      "text/plain": [
       "Text(0.5, 1.0, 'P-Value Versus Period, 1.75 REarth, 230 ppm')"
      ]
     },
     "execution_count": 39,
     "metadata": {},
     "output_type": "execute_result"
    },
    {
     "data": {
      "image/png": "[encoded data removed]",
      "text/plain": [
       "<Figure size 432x288 with 1 Axes>"
      ]
     },
     "metadata": {
      "needs_background": "light"
     },
     "output_type": "display_data"
    }
   ],
   "source": [
    "truedata175 = np.load('175RETransits230ppm.npy',allow_pickle=True)\n",
    "\n",
    "truelists175 = {}\n",
    "\n",
    "for i in range(0,len(binList)-1):\n",
    "\n",
    "    SDEbin =  np.zeros(0,float)\n",
    "    for k in range(0,len(truedata175)):\n",
    "        period = truedata175[k].periods\n",
    "        SDEs = truedata175[k].power\n",
    "        powerBin = SDEs[(period >= binList[i]) & (period < binList[i+1])]\n",
    "        SDEbin = np.append(SDEbin,powerBin)\n",
    "    truelists175['list_%s' % i] = SDEbin\n",
    "\n",
    "pvals175 = []\n",
    "\n",
    "for i in range(1,len(binList)-1):\n",
    "    pvals175.append(stats.ks_2samp(truelists175['list_%s' % i],falselists['list_%s' % i],alternative='two-sided')[1])\n",
    "    print(stats.ks_2samp(truelists175['list_%s' % i],falselists['list_%s' % i],alternative='two-sided'))\n",
    "\n",
    "plt.plot(periodvals,pvals175,\"b.\")\n",
    "plt.xlabel(\"Period (d)\")\n",
    "plt.ylabel(\"KS-Test P-Value\")\n",
    "plt.title(\"P-Value Versus Period, 1.75 REarth, 230 ppm\")"
   ]
  },
  {
   "cell_type": "code",
   "execution_count": 44,
   "metadata": {},
   "outputs": [
    {
     "name": "stdout",
     "output_type": "stream",
     "text": [
      "Ks_2sampResult(statistic=0.02018573118573108, pvalue=4.043101480240448e-18)\n",
      "Ks_2sampResult(statistic=0.015384027644665926, pvalue=1.883645480839601e-07)\n",
      "Ks_2sampResult(statistic=0.024286008697773392, pvalue=1.650715505206219e-11)\n",
      "Ks_2sampResult(statistic=0.017929171775325603, pvalue=0.00010273109929092373)\n",
      "Ks_2sampResult(statistic=0.020198027484849224, pvalue=0.00013991074182974746)\n",
      "Ks_2sampResult(statistic=0.020100966350966365, pvalue=0.0009621366905913188)\n",
      "Ks_2sampResult(statistic=0.016001177648236498, pvalue=0.038256345882186835)\n",
      "Ks_2sampResult(statistic=0.015962212212212196, pvalue=0.0712146840638246)\n",
      "Ks_2sampResult(statistic=0.012846973958085095, pvalue=0.30100051817112017)\n",
      "Ks_2sampResult(statistic=0.016069031994957905, pvalue=0.15845094836838647)\n",
      "Ks_2sampResult(statistic=0.020680055055055047, pvalue=0.04788881984268375)\n",
      "Ks_2sampResult(statistic=0.013952324417440765, pvalue=0.43209321275824253)\n",
      "Ks_2sampResult(statistic=0.018878365545032222, pvalue=0.15972825579932895)\n",
      "Ks_2sampResult(statistic=0.017394823394823386, pvalue=0.290749950644994)\n",
      "Ks_2sampResult(statistic=0.02351776018442686, pvalue=0.0724318879492713)\n",
      "Ks_2sampResult(statistic=0.020499833166499837, pvalue=0.20191421175238233)\n",
      "Ks_2sampResult(statistic=0.03248137025914799, pvalue=0.011269378245488152)\n",
      "Ks_2sampResult(statistic=0.029242704242704254, pvalue=0.03512120078534493)\n",
      "Ks_2sampResult(statistic=0.031019715367541445, pvalue=0.035781189214155795)\n",
      "Ks_2sampResult(statistic=0.024822648735692177, pvalue=0.15201994560285745)\n",
      "Ks_2sampResult(statistic=0.047027980361313726, pvalue=0.00043053003059721913)\n",
      "Ks_2sampResult(statistic=0.029017965333754808, pvalue=0.10908543141249222)\n",
      "Ks_2sampResult(statistic=0.06447868921553135, pvalue=1.1591502023870784e-06)\n",
      "Ks_2sampResult(statistic=0.040402068735402086, pvalue=0.009575682715632002)\n"
     ]
    },
    {
     "data": {
      "text/plain": [
       "Text(0.5, 1.0, 'P-Value Versus Period, 1.5 REarth, 230 ppm')"
      ]
     },
     "execution_count": 44,
     "metadata": {},
     "output_type": "execute_result"
    },
    {
     "data": {
      "image/png": "[encoded data removed]",
      "text/plain": [
       "<Figure size 432x288 with 1 Axes>"
      ]
     },
     "metadata": {
      "needs_background": "light"
     },
     "output_type": "display_data"
    }
   ],
   "source": [
    "truedata15 = np.load('15RETransits230ppm.npy',allow_pickle=True)\n",
    "\n",
    "truelists15 = {}\n",
    "\n",
    "for i in range(0,len(binList)-1):\n",
    "\n",
    "    SDEbin =  np.zeros(0,float)\n",
    "    for k in range(0,len(truedata15)):\n",
    "        period = truedata15[k].periods\n",
    "        SDEs = truedata15[k].power\n",
    "        powerBin = SDEs[(period >= binList[i]) & (period < binList[i+1])]\n",
    "        SDEbin = np.append(SDEbin,powerBin)\n",
    "    truelists15['list_%s' % i] = SDEbin\n",
    "\n",
    "pvals15 = []\n",
    "\n",
    "for i in range(1,len(binList)-1):\n",
    "    pvals15.append(stats.ks_2samp(truelists15['list_%s' % i],falselists['list_%s' % i],alternative='two-sided')[1])\n",
    "    print(stats.ks_2samp(truelists15['list_%s' % i],falselists['list_%s' % i],alternative='two-sided'))\n",
    "\n",
    "plt.plot(periodvals,pvals15,\"b.\")\n",
    "plt.xlabel(\"Period (d)\")\n",
    "plt.ylabel(\"KS-Test P-Value\")\n",
    "plt.title(\"P-Value Versus Period, 1.5 REarth, 230 ppm\")"
   ]
  },
  {
   "cell_type": "code",
   "execution_count": 45,
   "metadata": {
    "scrolled": true
   },
   "outputs": [
    {
     "name": "stdout",
     "output_type": "stream",
     "text": [
      "Ks_2sampResult(statistic=0.006985785785785792, pvalue=0.015198941194229043)\n",
      "Ks_2sampResult(statistic=0.005997194002513084, pvalue=0.17100797572037787)\n",
      "Ks_2sampResult(statistic=0.01117138146549912, pvalue=0.00903375048461068)\n",
      "Ks_2sampResult(statistic=0.009448442525365586, pvalue=0.12873644675079293)\n",
      "Ks_2sampResult(statistic=0.007028035787725706, pvalue=0.60860080013373)\n",
      "Ks_2sampResult(statistic=0.00989787864787861, pvalue=0.31253533693631996)\n",
      "Ks_2sampResult(statistic=0.007973149620208453, pvalue=0.7098245579112576)\n",
      "Ks_2sampResult(statistic=0.01053456234011789, pvalue=0.46190852654704695)\n",
      "Ks_2sampResult(statistic=0.011759855093188443, pvalue=0.40678285969566996)\n",
      "Ks_2sampResult(statistic=0.013665702739776742, pvalue=0.3184341821411136)\n",
      "Ks_2sampResult(statistic=0.014170420420420424, pvalue=0.3449480926552342)\n",
      "Ks_2sampResult(statistic=0.03532416137067296, pvalue=0.0001160529398678781)\n",
      "Ks_2sampResult(statistic=0.03150175816842482, pvalue=0.0017591007753994259)\n",
      "Ks_2sampResult(statistic=0.024737880737880746, pvalue=0.04072898482922399)\n",
      "Ks_2sampResult(statistic=0.017187793854460565, pvalue=0.3381953749868289)\n",
      "Ks_2sampResult(statistic=0.01780647313980649, pvalue=0.35283000674241505)\n",
      "Ks_2sampResult(statistic=0.018051384718051455, pvalue=0.4006687015753449)\n",
      "Ks_2sampResult(statistic=0.018450758450758498, pvalue=0.3969081346017122)\n",
      "Ks_2sampResult(statistic=0.01460460460460461, pvalue=0.763970658831638)\n",
      "Ks_2sampResult(statistic=0.04789093441267356, pvalue=0.00013677763400327412)\n",
      "Ks_2sampResult(statistic=0.029091472424805698, pvalue=0.07902426425623285)\n",
      "Ks_2sampResult(statistic=0.029403614140456336, pvalue=0.10092125871661795)\n",
      "Ks_2sampResult(statistic=0.0462283335967546, pvalue=0.0012448404325289771)\n",
      "Ks_2sampResult(statistic=0.024702480258035786, pvalue=0.27083773632765495)\n"
     ]
    },
    {
     "data": {
      "text/plain": [
       "Text(0.5, 1.0, 'P-Value Versus Period, 1.25 REarth, 230 ppm')"
      ]
     },
     "execution_count": 45,
     "metadata": {},
     "output_type": "execute_result"
    },
    {
     "data": {
      "image/png": "[encoded data removed]",
      "text/plain": [
       "<Figure size 432x288 with 1 Axes>"
      ]
     },
     "metadata": {
      "needs_background": "light"
     },
     "output_type": "display_data"
    }
   ],
   "source": [
    "truedata125 = np.load('125RETransits230ppm.npy',allow_pickle=True)\n",
    "\n",
    "truelists125 = {}\n",
    "\n",
    "for i in range(0,len(binList)-1):\n",
    "\n",
    "    SDEbin =  np.zeros(0,float)\n",
    "    for k in range(0,len(truedata125)):\n",
    "        period = truedata125[k].periods\n",
    "        SDEs = truedata125[k].power\n",
    "        powerBin = SDEs[(period >= binList[i]) & (period < binList[i+1])]\n",
    "        SDEbin = np.append(SDEbin,powerBin)\n",
    "    truelists125['list_%s' % i] = SDEbin\n",
    "\n",
    "pvals125 = []\n",
    "\n",
    "for i in range(1,len(binList)-1):\n",
    "    pvals125.append(stats.ks_2samp(truelists125['list_%s' % i],falselists['list_%s' % i],alternative='two-sided')[1])\n",
    "    print(stats.ks_2samp(truelists125['list_%s' % i],falselists['list_%s' % i],alternative='two-sided'))\n",
    "\n",
    "plt.plot(periodvals,pvals125,\"b.\")\n",
    "plt.xlabel(\"Period (d)\")\n",
    "plt.ylabel(\"KS-Test P-Value\")\n",
    "plt.title(\"P-Value Versus Period, 1.25 REarth, 230 ppm\")"
   ]
  },
  {
   "cell_type": "code",
   "execution_count": 47,
   "metadata": {},
   "outputs": [
    {
     "name": "stdout",
     "output_type": "stream",
     "text": [
      "Ks_2sampResult(statistic=0.008210119210119216, pvalue=0.0023653122749449575)\n",
      "Ks_2sampResult(statistic=0.008363656209400883, pvalue=0.016764267620310885)\n",
      "Ks_2sampResult(statistic=0.008714554891025461, pvalue=0.07480376512984814)\n",
      "Ks_2sampResult(statistic=0.00788960558191329, pvalue=0.29447744574428675)\n",
      "Ks_2sampResult(statistic=0.008549014130409538, pvalue=0.35816955599230926)\n",
      "Ks_2sampResult(statistic=0.011101004851004848, pvalue=0.19441248155689136)\n",
      "Ks_2sampResult(statistic=0.005855502561384951, pvalue=0.9537537214040596)\n",
      "Ks_2sampResult(statistic=0.010352296741185651, pvalue=0.4844962474616752)\n",
      "Ks_2sampResult(statistic=0.012349810127587957, pvalue=0.34679328436701706)\n",
      "Ks_2sampResult(statistic=0.011662032402773193, pvalue=0.5166485386419504)\n",
      "Ks_2sampResult(statistic=0.017377377377377434, pvalue=0.14336167271076827)\n",
      "Ks_2sampResult(statistic=0.02099983704634867, pvalue=0.06365126919478176)\n",
      "Ks_2sampResult(statistic=0.015663355663355666, pvalue=0.34930425174915164)\n",
      "Ks_2sampResult(statistic=0.034572286572286615, pvalue=0.0009955128382365668)\n",
      "Ks_2sampResult(statistic=0.03152940819607486, pvalue=0.005138821058563185)\n",
      "Ks_2sampResult(statistic=0.020294627961294553, pvalue=0.21131467249402439)\n",
      "Ks_2sampResult(statistic=0.032044637229822426, pvalue=0.012941222963885026)\n",
      "Ks_2sampResult(statistic=0.014486794486794463, pvalue=0.7041056105942801)\n",
      "Ks_2sampResult(statistic=0.03976237106671887, pvalue=0.0026908483472449685)\n",
      "Ks_2sampResult(statistic=0.043347260303782, pvalue=0.0007741759535818619)\n",
      "Ks_2sampResult(statistic=0.04021926688593358, pvalue=0.0041587472715867435)\n",
      "Ks_2sampResult(statistic=0.050501027343132554, pvalue=0.00029861239851449573)\n",
      "Ks_2sampResult(statistic=0.03204836415362733, pvalue=0.057572553722018964)\n",
      "Ks_2sampResult(statistic=0.029936603269936524, pvalue=0.10648450122467455)\n"
     ]
    },
    {
     "data": {
      "text/plain": [
       "Text(0.5, 1.0, 'P-Value Versus Period, False Positives, 230 ppm')"
      ]
     },
     "execution_count": 47,
     "metadata": {},
     "output_type": "execute_result"
    },
    {
     "data": {
      "image/png": "[encoded data removed]",
      "text/plain": [
       "<Figure size 432x288 with 1 Axes>"
      ]
     },
     "metadata": {
      "needs_background": "light"
     },
     "output_type": "display_data"
    }
   ],
   "source": [
    "truedata0 = np.load('0RETransits230ppm.npy',allow_pickle=True)\n",
    "\n",
    "truelists0 = {}\n",
    "\n",
    "for i in range(0,len(binList)-1):\n",
    "\n",
    "    SDEbin =  np.zeros(0,float)\n",
    "    for k in range(0,len(truedata0)):\n",
    "        period = truedata0[k].periods\n",
    "        SDEs = truedata0[k].power\n",
    "        powerBin = SDEs[(period >= binList[i]) & (period < binList[i+1])]\n",
    "        SDEbin = np.append(SDEbin,powerBin)\n",
    "    truelists0['list_%s' % i] = SDEbin\n",
    "\n",
    "pvals0 = []\n",
    "\n",
    "for i in range(1,len(binList)-1):\n",
    "    pvals0.append(stats.ks_2samp(truelists0['list_%s' % i],falselists['list_%s' % i],alternative='two-sided')[1])\n",
    "    print(stats.ks_2samp(truelists0['list_%s' % i],falselists['list_%s' % i],alternative='two-sided'))\n",
    "\n",
    "plt.plot(periodvals,pvals0,\"b.\")\n",
    "plt.xlabel(\"Period (d)\")\n",
    "plt.ylabel(\"K-S Test P-Value\")\n",
    "plt.title(\"P-Value Versus Period, False Positives, 230 ppm\")"
   ]
  },
  {
   "cell_type": "code",
   "execution_count": 50,
   "metadata": {},
   "outputs": [
    {
     "name": "stdout",
     "output_type": "stream",
     "text": [
      "Ks_2sampResult(statistic=0.06484253344253343, pvalue=5.202102513290437e-183)\n",
      "Ks_2sampResult(statistic=0.06146273933507976, pvalue=1.4205340875132905e-112)\n",
      "Ks_2sampResult(statistic=0.055320152084857965, pvalue=6.213803611668924e-58)\n",
      "Ks_2sampResult(statistic=0.05222494684033145, pvalue=8.080653732397456e-37)\n",
      "Ks_2sampResult(statistic=0.04845263868519682, pvalue=2.452097690219597e-24)\n",
      "Ks_2sampResult(statistic=0.03277845152845149, pvalue=3.0096566745450564e-09)\n",
      "Ks_2sampResult(statistic=0.028193840899723238, pvalue=9.254137310114488e-06)\n",
      "Ks_2sampResult(statistic=0.028179429429429442, pvalue=6.121372003357088e-05)\n",
      "Ks_2sampResult(statistic=0.014828002605780322, pvalue=0.16111217883276838)\n",
      "Ks_2sampResult(statistic=0.015132169206243273, pvalue=0.21097425659509478)\n",
      "Ks_2sampResult(statistic=0.02007945445445447, pvalue=0.059293255188956645)\n",
      "Ks_2sampResult(statistic=0.01723258141862792, pvalue=0.19606898909496404)\n",
      "Ks_2sampResult(statistic=0.02647929981263314, pvalue=0.013867390542836892)\n",
      "Ks_2sampResult(statistic=0.04398655798655804, pvalue=9.000718887096092e-06)\n",
      "Ks_2sampResult(statistic=0.05139745806412474, pvalue=2.6182152843630194e-07)\n",
      "Ks_2sampResult(statistic=0.07876710043376711, pvalue=4.029353324784617e-15)\n",
      "Ks_2sampResult(statistic=0.0593415637860083, pvalue=6.224070626830504e-08)\n",
      "Ks_2sampResult(statistic=0.0791060291060291, pvalue=2.849913903540544e-13)\n",
      "Ks_2sampResult(statistic=0.06425033729381557, pvalue=6.3751692962509e-08)\n",
      "Ks_2sampResult(statistic=0.06843147495321411, pvalue=6.2669984438378555e-09)\n",
      "Ks_2sampResult(statistic=0.08563372896706231, pvalue=1.3874551219584602e-12)\n",
      "Ks_2sampResult(statistic=0.07564880670143828, pvalue=5.2004214385776786e-09)\n",
      "Ks_2sampResult(statistic=0.08373742163215847, pvalue=6.053685960748442e-11)\n",
      "Ks_2sampResult(statistic=0.10663163163163158, pvalue=1.3853984921560585e-16)\n"
     ]
    },
    {
     "data": {
      "text/plain": [
       "Text(0.5, 1.0, 'P-Value Versus Period, 2 Earth Radii, Large Period Range, 230 ppm')"
      ]
     },
     "execution_count": 50,
     "metadata": {},
     "output_type": "execute_result"
    },
    {
     "data": {
      "image/png": "[encoded data removed]",
      "text/plain": [
       "<Figure size 432x288 with 1 Axes>"
      ]
     },
     "metadata": {
      "needs_background": "light"
     },
     "output_type": "display_data"
    }
   ],
   "source": [
    "truedata2Long = np.load('Long2RETransits230ppm.npy',allow_pickle=True)\n",
    "\n",
    "truelists2Long = {}\n",
    "\n",
    "for i in range(0,len(binList)-1):\n",
    "\n",
    "    SDEbin =  np.zeros(0,float)\n",
    "    for k in range(0,len(truedata2Long)):\n",
    "        period = truedata2Long0[k].periods\n",
    "        SDEs = truedata2Long[k].power\n",
    "        powerBin = SDEs[(period >= binList[i]) & (period < binList[i+1])]\n",
    "        SDEbin = np.append(SDEbin,powerBin)\n",
    "    truelists2Long['list_%s' % i] = SDEbin\n",
    "\n",
    "pvals2Long = []\n",
    "\n",
    "for i in range(1,len(binList)-1):\n",
    "    pvals2Long.append(stats.ks_2samp(truelists2Long['list_%s' % i],falselists['list_%s' % i],alternative='two-sided')[1])\n",
    "    print(stats.ks_2samp(truelists2Long['list_%s' % i],falselists['list_%s' % i],alternative='two-sided'))\n",
    "\n",
    "plt.plot(periodvals,pvals2Long,\"b.\")\n",
    "plt.xlabel(\"Period (d)\")\n",
    "plt.ylabel(\"K-S Test P-Value\")\n",
    "plt.title(\"P-Value Versus Period, 2 Earth Radii, Large Period Range, 230 ppm\")"
   ]
  },
  {
   "cell_type": "code",
   "execution_count": 7,
   "metadata": {},
   "outputs": [
    {
     "name": "stdout",
     "output_type": "stream",
     "text": [
      "Ks_2sampResult(statistic=0.026370552370552358, pvalue=1.2667117417013156e-30)\n",
      "Ks_2sampResult(statistic=0.026694779886269254, pvalue=1.3981766654134492e-21)\n",
      "Ks_2sampResult(statistic=0.024886525180642827, pvalue=4.6002627398079615e-12)\n",
      "Ks_2sampResult(statistic=0.019622403468557315, pvalue=1.4563881371442476e-05)\n",
      "Ks_2sampResult(statistic=0.021931155962163718, pvalue=2.524479780999179e-05)\n",
      "Ks_2sampResult(statistic=0.01747824747824747, pvalue=0.0062022133614773964)\n",
      "Ks_2sampResult(statistic=0.02314691161749982, pvalue=0.0005073404442001364)\n",
      "Ks_2sampResult(statistic=0.02105758536314095, pvalue=0.006029323538937291)\n",
      "Ks_2sampResult(statistic=0.016758027869138936, pvalue=0.08018476571212779)\n",
      "Ks_2sampResult(statistic=0.01619044970896827, pvalue=0.15248195940228776)\n",
      "Ks_2sampResult(statistic=0.012941066066066043, pvalue=0.4580265450341227)\n",
      "Ks_2sampResult(statistic=0.02886630816863378, pvalue=0.0029650317878735853)\n",
      "Ks_2sampResult(statistic=0.017958471291804612, pvalue=0.2029978597154608)\n",
      "Ks_2sampResult(statistic=0.023172887172887124, pvalue=0.06562885217210056)\n",
      "Ks_2sampResult(statistic=0.02787090120423452, pvalue=0.018927254038160393)\n",
      "Ks_2sampResult(statistic=0.039323990657323976, pvalue=0.0004346954786348828)\n",
      "Ks_2sampResult(statistic=0.03733437140844548, pvalue=0.002136059443947517)\n",
      "Ks_2sampResult(statistic=0.05010279510279503, pvalue=1.4054065360319012e-05)\n",
      "Ks_2sampResult(statistic=0.07436131783957871, pvalue=1.8172002443226175e-10)\n",
      "Ks_2sampResult(statistic=0.04554598076337202, pvalue=0.00034190447393674307)\n",
      "Ks_2sampResult(statistic=0.044403927737261095, pvalue=0.0010759938991116704)\n",
      "Ks_2sampResult(statistic=0.06644012433486118, pvalue=4.774381917550308e-07)\n",
      "Ks_2sampResult(statistic=0.04659501606870031, pvalue=0.0011067599058637054)\n",
      "Ks_2sampResult(statistic=0.07336113891669449, pvalue=4.4910269039573915e-08)\n"
     ]
    },
    {
     "data": {
      "text/plain": [
       "Text(0.5, 1.0, 'P-Value Versus Period, 2 Earth Radii, Large Period Range, 230 ppm')"
      ]
     },
     "execution_count": 7,
     "metadata": {},
     "output_type": "execute_result"
    },
    {
     "data": {
      "image/png": "[encoded data removed]",
      "text/plain": [
       "<Figure size 432x288 with 1 Axes>"
      ]
     },
     "metadata": {
      "needs_background": "light"
     },
     "output_type": "display_data"
    }
   ],
   "source": [
    "truedata175Long = np.load('Long175RETransits230ppm.npy',allow_pickle=True)\n",
    "\n",
    "truelists175Long = {}\n",
    "\n",
    "for i in range(0,len(binList)-1):\n",
    "\n",
    "    SDEbin =  np.zeros(0,float)\n",
    "    for k in range(0,len(truedata175Long)):\n",
    "        period = truedata175Long[k].periods\n",
    "        SDEs = truedata175Long[k].power\n",
    "        powerBin = SDEs[(period >= binList[i]) & (period < binList[i+1])]\n",
    "        SDEbin = np.append(SDEbin,powerBin)\n",
    "    truelists175Long['list_%s' % i] = SDEbin\n",
    "\n",
    "pvals175Long = []\n",
    "\n",
    "for i in range(1,len(binList)-1):\n",
    "    pvals175Long.append(stats.ks_2samp(truelists175Long['list_%s' % i],falselists['list_%s' % i],alternative='two-sided')[1])\n",
    "    print(stats.ks_2samp(truelists175Long['list_%s' % i],falselists['list_%s' % i],alternative='two-sided'))\n",
    "\n",
    "plt.plot(periodvals,pvals175Long,\"b.\")\n",
    "plt.xlabel(\"Period (d)\")\n",
    "plt.ylabel(\"K-S Test P-Value\")\n",
    "plt.title(\"P-Value Versus Period, 2 Earth Radii, Large Period Range, 230 ppm\")"
   ]
  },
  {
   "cell_type": "code",
   "execution_count": 8,
   "metadata": {},
   "outputs": [
    {
     "name": "stdout",
     "output_type": "stream",
     "text": [
      "Ks_2sampResult(statistic=0.01476782236782237, pvalue=6.767452943673911e-10)\n",
      "Ks_2sampResult(statistic=0.015902285263987403, pvalue=6.217834171242212e-08)\n",
      "Ks_2sampResult(statistic=0.012848268436503746, pvalue=0.001581189001108507)\n",
      "Ks_2sampResult(statistic=0.009583784968400288, pvalue=0.11894741295853184)\n",
      "Ks_2sampResult(statistic=0.011169076052796933, pvalue=0.10724336609987947)\n",
      "Ks_2sampResult(statistic=0.009892584892584821, pvalue=0.31314780355703814)\n",
      "Ks_2sampResult(statistic=0.013560383913325036, pvalue=0.1166430843654804)\n",
      "Ks_2sampResult(statistic=0.012017156044933808, pvalue=0.30100873767196684)\n",
      "Ks_2sampResult(statistic=0.01515499626610739, pvalue=0.14402079243222038)\n",
      "Ks_2sampResult(statistic=0.010592073555036552, pvalue=0.6404800908033876)\n",
      "Ks_2sampResult(statistic=0.009252168835502173, pvalue=0.8491829281972274)\n",
      "Ks_2sampResult(statistic=0.016820075889843245, pvalue=0.21874546850723303)\n",
      "Ks_2sampResult(statistic=0.009472036138702788, pvalue=0.9081001016285786)\n",
      "Ks_2sampResult(statistic=0.01466523666523667, pvalue=0.5005981438634158)\n",
      "Ks_2sampResult(statistic=0.034137167470500884, pvalue=0.0018394405253536745)\n",
      "Ks_2sampResult(statistic=0.01866166166166172, pvalue=0.2983093637117631)\n",
      "Ks_2sampResult(statistic=0.045467689912134374, pvalue=7.833264182137615e-05)\n",
      "Ks_2sampResult(statistic=0.031020251020251022, pvalue=0.021167537587270965)\n",
      "Ks_2sampResult(statistic=0.04548505026765892, pvalue=0.0003499268040906092)\n",
      "Ks_2sampResult(statistic=0.06076685381033209, pvalue=3.9385872456354736e-07)\n",
      "Ks_2sampResult(statistic=0.04149482816149486, pvalue=0.0027934458950664713)\n",
      "Ks_2sampResult(statistic=0.043999262420315044, pvalue=0.0024936193586539107)\n",
      "Ks_2sampResult(statistic=0.04540856646119806, pvalue=0.0016136397974787333)\n",
      "Ks_2sampResult(statistic=0.036026026026026, pvalue=0.028608291495325656)\n"
     ]
    },
    {
     "data": {
      "text/plain": [
       "Text(0.5, 1.0, 'P-Value Versus Period, 1.5 Earth Radii, Large Period Range, 230 ppm')"
      ]
     },
     "execution_count": 8,
     "metadata": {},
     "output_type": "execute_result"
    },
    {
     "data": {
      "image/png": "[encoded data removed]",
      "text/plain": [
       "<Figure size 432x288 with 1 Axes>"
      ]
     },
     "metadata": {
      "needs_background": "light"
     },
     "output_type": "display_data"
    }
   ],
   "source": [
    "truedata15Long = np.load('Long15RETransits230ppm.npy',allow_pickle=True)\n",
    "\n",
    "truelists15Long = {}\n",
    "\n",
    "for i in range(0,len(binList)-1):\n",
    "\n",
    "    SDEbin =  np.zeros(0,float)\n",
    "    for k in range(0,len(truedata15Long)):\n",
    "        period = truedata15Long[k].periods\n",
    "        SDEs = truedata15Long[k].power\n",
    "        powerBin = SDEs[(period >= binList[i]) & (period < binList[i+1])]\n",
    "        SDEbin = np.append(SDEbin,powerBin)\n",
    "    truelists15Long['list_%s' % i] = SDEbin\n",
    "\n",
    "pvals15Long = []\n",
    "\n",
    "for i in range(1,len(binList)-1):\n",
    "    pvals15Long.append(stats.ks_2samp(truelists175Long['list_%s' % i],falselists['list_%s' % i],alternative='two-sided')[1])\n",
    "    print(stats.ks_2samp(truelists15Long['list_%s' % i],falselists['list_%s' % i],alternative='two-sided'))\n",
    "\n",
    "plt.plot(periodvals,pvals15Long,\"b.\")\n",
    "plt.xlabel(\"Period (d)\")\n",
    "plt.ylabel(\"K-S Test P-Value\")\n",
    "plt.title(\"P-Value Versus Period, 1.5 Earth Radii, Large Period Range, 230 ppm\")"
   ]
  },
  {
   "cell_type": "code",
   "execution_count": 7,
   "metadata": {},
   "outputs": [
    {
     "name": "stdout",
     "output_type": "stream",
     "text": [
      "Ks_2sampResult(statistic=0.008908464828464857, pvalue=2.260732758257336e-19)\n",
      "Ks_2sampResult(statistic=0.008196188209486088, pvalue=2.171630902844762e-11)\n",
      "Ks_2sampResult(statistic=0.010179641826700642, pvalue=3.939859736299161e-11)\n",
      "Ks_2sampResult(statistic=0.006174274866582508, pvalue=0.0031949233482596105)\n",
      "Ks_2sampResult(statistic=0.008057460561336521, pvalue=0.0004630443443336875)\n",
      "Ks_2sampResult(statistic=0.008002059752059809, pvalue=0.0025723142198760102)\n",
      "Ks_2sampResult(statistic=0.005523311546840937, pvalue=0.14970806046328505)\n",
      "Ks_2sampResult(statistic=0.004725197419641863, pvalue=0.39783331327762433)\n",
      "Ks_2sampResult(statistic=0.007612437834660091, pvalue=0.05203470729674059)\n",
      "Ks_2sampResult(statistic=0.007802265228191163, pvalue=0.0748305349837991)\n",
      "Ks_2sampResult(statistic=0.007000208541875219, pvalue=0.1903898292053038)\n",
      "Ks_2sampResult(statistic=0.01127336638964549, pvalue=0.008489398921931485)\n",
      "Ks_2sampResult(statistic=0.01860545160545163, pvalue=2.7595315641903657e-06)\n",
      "Ks_2sampResult(statistic=0.011856056056056108, pvalue=0.01463697588727402)\n",
      "Ks_2sampResult(statistic=0.015081050747717373, pvalue=0.001104287179698646)\n",
      "Ks_2sampResult(statistic=0.02777167167167166, pvalue=1.8086857217147174e-10)\n",
      "Ks_2sampResult(statistic=0.03370051533014495, pvalue=9.777762077084408e-14)\n",
      "Ks_2sampResult(statistic=0.02843231693231693, pvalue=1.5047317324979737e-09)\n",
      "Ks_2sampResult(statistic=0.02774591983287633, pvalue=4.122484099721489e-08)\n",
      "Ks_2sampResult(statistic=0.028000043521782647, pvalue=2.9766318413277422e-08)\n",
      "Ks_2sampResult(statistic=0.026127937461270734, pvalue=1.1969515079870362e-06)\n",
      "Ks_2sampResult(statistic=0.031866392708497976, pvalue=8.433333096191866e-09)\n",
      "Ks_2sampResult(statistic=0.0378745060850324, pvalue=2.9526900735047176e-12)\n",
      "Ks_2sampResult(statistic=0.027830663997330696, pvalue=1.7750111149815882e-06)\n"
     ]
    },
    {
     "data": {
      "text/plain": [
       "Text(0.5, 1.0, 'P-Value Versus Period, 1.5 REarth, 230 ppm, 1000 LC Sample')"
      ]
     },
     "execution_count": 7,
     "metadata": {},
     "output_type": "execute_result"
    },
    {
     "data": {
      "image/png": "[encoded data removed]",
      "text/plain": [
       "<Figure size 432x288 with 1 Axes>"
      ]
     },
     "metadata": {
      "needs_background": "light"
     },
     "output_type": "display_data"
    }
   ],
   "source": [
    "# 1.5 REarth test with larger sample (1000 light curves)\n",
    "\n",
    "truedata15_Large = np.load('15RETransits230ppm_Large.npy',allow_pickle=True)\n",
    "\n",
    "truelists15_Large = {}\n",
    "\n",
    "for i in range(0,len(binList)-1):\n",
    "\n",
    "    SDEbin =  np.zeros(0,float)\n",
    "    for k in range(0,len(truedata15_Large)):\n",
    "        period = truedata15_Large[k].periods\n",
    "        SDEs = truedata15_Large[k].power\n",
    "        powerBin = SDEs[(period >= binList[i]) & (period < binList[i+1])]\n",
    "        SDEbin = np.append(SDEbin,powerBin)\n",
    "    truelists15_Large['list_%s' % i] = SDEbin\n",
    "\n",
    "pvals15_Large = []\n",
    "\n",
    "for i in range(1,len(binList)-1):\n",
    "    pvals15_Large.append(stats.ks_2samp(truelists15_Large['list_%s' % i],falselists['list_%s' % i],alternative='two-sided')[1])\n",
    "    print(stats.ks_2samp(truelists15_Large['list_%s' % i],falselists['list_%s' % i],alternative='two-sided'))\n",
    "\n",
    "plt.plot(periodvals,pvals15_Large,\"b.\")\n",
    "plt.xlabel(\"Period (d)\")\n",
    "plt.ylabel(\"KS-Test P-Value\")\n",
    "plt.title(\"P-Value Versus Period, 1.5 REarth, 230 ppm, 1000 LC Sample\")"
   ]
  },
  {
   "cell_type": "code",
   "execution_count": null,
   "metadata": {},
   "outputs": [],
   "source": []
  }
 ],
 "metadata": {
  "kernelspec": {
   "display_name": "Python 3",
   "language": "python",
   "name": "python3"
  },
  "language_info": {
   "codemirror_mode": {
    "name": "ipython",
    "version": 3
   },
   "file_extension": ".py",
   "mimetype": "text/x-python",
   "name": "python",
   "nbconvert_exporter": "python",
   "pygments_lexer": "ipython3",
   "version": "3.7.4"
  }
 },
 "nbformat": 4,
 "nbformat_minor": 2
}
