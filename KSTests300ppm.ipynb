{
 "cells": [
  {
   "cell_type": "code",
   "execution_count": 1,
   "metadata": {},
   "outputs": [],
   "source": [
    "import numpy as np\n",
    "import matplotlib.pyplot as plt\n",
    "from scipy import stats\n",
    "%matplotlib inline\n",
    "\n",
    "falsedataA = np.load('falsepositive300a.npy',allow_pickle=True)\n",
    "falsedataB = np.load('falsepositive300b.npy',allow_pickle=True)\n",
    "falsedata = np.append(falsedataA,falsedataB)"
   ]
  },
  {
   "cell_type": "code",
   "execution_count": 3,
   "metadata": {},
   "outputs": [],
   "source": [
    "falselists = {}\n",
    "binList = np.arange(0.0,13.0,0.5)\n",
    "\n",
    "for i in range(0,len(binList)-1):\n",
    "    SDEbin =  np.zeros(0,float)\n",
    "    for j in range(0,len(falsedata)):\n",
    "        period = falsedata[j].periods\n",
    "        SDEs = falsedata[j].power\n",
    "        powerBin = SDEs[(period >= binList[i]) & (period < binList[i+1])]\n",
    "        SDEbin = np.append(SDEbin,powerBin)\n",
    "    falselists['list_%s' % i] = SDEbin\n",
    "\n",
    "periodvals = []\n",
    "\n",
    "for i in range(1,len(binList)-1):\n",
    "    periodvals.append(binList[i] + (binList[i+1]-binList[i])/2)\n",
    "    "
   ]
  },
  {
   "cell_type": "code",
   "execution_count": 6,
   "metadata": {},
   "outputs": [
    {
     "name": "stdout",
     "output_type": "stream",
     "text": [
      "Ks_2sampResult(statistic=0.2501136465934665, pvalue=0.0)\n",
      "Ks_2sampResult(statistic=0.20909305783892781, pvalue=0.0)\n",
      "Ks_2sampResult(statistic=0.16995831941178574, pvalue=0.0)\n",
      "Ks_2sampResult(statistic=0.13272716108021088, pvalue=1.0338894333885817e-252)\n",
      "Ks_2sampResult(statistic=0.11128820964931152, pvalue=8.210859293227345e-136)\n",
      "Ks_2sampResult(statistic=0.09113792871294746, pvalue=1.2578273046666277e-73)\n",
      "Ks_2sampResult(statistic=0.09599067413912299, pvalue=8.552678465404178e-67)\n",
      "Ks_2sampResult(statistic=0.06365806729460141, pvalue=3.771801343258607e-25)\n",
      "Ks_2sampResult(statistic=0.048111710467299396, pvalue=8.781109945829644e-13)\n",
      "Ks_2sampResult(statistic=0.06588938901392016, pvalue=2.7222922475411915e-20)\n",
      "Ks_2sampResult(statistic=0.050163322080520156, pvalue=1.1633372442299339e-10)\n",
      "Ks_2sampResult(statistic=0.054133475229272476, pvalue=4.198319698136462e-11)\n",
      "Ks_2sampResult(statistic=0.06824552291919134, pvalue=8.106414423555808e-16)\n",
      "Ks_2sampResult(statistic=0.05668524273925625, pvalue=5.901536362416537e-10)\n",
      "Ks_2sampResult(statistic=0.06997256889980072, pvalue=4.067524323365227e-14)\n",
      "Ks_2sampResult(statistic=0.09241577060931899, pvalue=3.8811481602636703e-22)\n",
      "Ks_2sampResult(statistic=0.07823474387115296, pvalue=1.9818426624524594e-14)\n",
      "Ks_2sampResult(statistic=0.07691009290784234, pvalue=1.8557848341682345e-13)\n",
      "Ks_2sampResult(statistic=0.11256183611120171, pvalue=4.042584708267463e-25)\n",
      "Ks_2sampResult(statistic=0.0932946280048273, pvalue=2.172726224992002e-17)\n",
      "Ks_2sampResult(statistic=0.07806439705164386, pvalue=2.8604921235720865e-11)\n",
      "Ks_2sampResult(statistic=0.10348916176412523, pvalue=1.1410462387510247e-17)\n",
      "Ks_2sampResult(statistic=0.09003342940998404, pvalue=1.777763695868425e-13)\n",
      "Ks_2sampResult(statistic=0.14339307048984473, pvalue=8.671618008518329e-32)\n"
     ]
    },
    {
     "data": {
      "text/plain": [
       "Text(0.5, 1.0, 'P-Value Versus Period, 4 REarth, 300 ppm')"
      ]
     },
     "execution_count": 6,
     "metadata": {},
     "output_type": "execute_result"
    },
    {
     "data": {
      "image/png": "[encoded data removed]",
      "text/plain": [
       "<Figure size 432x288 with 1 Axes>"
      ]
     },
     "metadata": {
      "needs_background": "light"
     },
     "output_type": "display_data"
    }
   ],
   "source": [
    "truedata4 = np.load('4RETransits300ppm.npy',allow_pickle=True)\n",
    "\n",
    "truelists4 = {}\n",
    "\n",
    "for i in range(0,len(binList)-1):\n",
    "    SDEbin =  np.zeros(0,float)\n",
    "    for k in range(0,len(truedata4)):\n",
    "        period = truedata4[k].periods\n",
    "        SDEs = truedata4[k].power\n",
    "        powerBin = SDEs[(period >= binList[i]) & (period < binList[i+1])]\n",
    "        SDEbin = np.append(SDEbin,powerBin)\n",
    "    truelists4['list_%s' % i] = SDEbin\n",
    "\n",
    "pvals4 = []\n",
    "\n",
    "for i in range(1,len(binList)-1):\n",
    "    pvals4.append(stats.ks_2samp(truelists4['list_%s' % i],falselists['list_%s' % i],alternative='two-sided')[1])\n",
    "    print(stats.ks_2samp(truelists4['list_%s' % i],falselists['list_%s' % i],alternative='two-sided'))\n",
    "    \n",
    "plt.plot(periodvals,pvals4,\"b.\")\n",
    "plt.xlabel(\"Period (d)\")\n",
    "plt.ylabel(\"KS-Test P-Value\")\n",
    "plt.title(\"P-Value Versus Period, 4 REarth, 300 ppm\")"
   ]
  },
  {
   "cell_type": "code",
   "execution_count": 7,
   "metadata": {},
   "outputs": [
    {
     "name": "stdout",
     "output_type": "stream",
     "text": [
      "Ks_2sampResult(statistic=0.15852557230216646, pvalue=0.0)\n",
      "Ks_2sampResult(statistic=0.14125874553744816, pvalue=0.0)\n",
      "Ks_2sampResult(statistic=0.11458797472477364, pvalue=3.06107585383154e-265)\n",
      "Ks_2sampResult(statistic=0.1045467136014773, pvalue=5.913778945460614e-157)\n",
      "Ks_2sampResult(statistic=0.08458951947289148, pvalue=1.2087193240900333e-78)\n",
      "Ks_2sampResult(statistic=0.06493284378787004, pvalue=1.390692648793437e-37)\n",
      "Ks_2sampResult(statistic=0.048326699321889294, pvalue=3.012311775289728e-17)\n",
      "Ks_2sampResult(statistic=0.053171348392653695, pvalue=1.1260682375707326e-17)\n",
      "Ks_2sampResult(statistic=0.03645689200077806, pvalue=1.6049240798053675e-07)\n",
      "Ks_2sampResult(statistic=0.031052207496318485, pvalue=7.739536896149967e-05)\n",
      "Ks_2sampResult(statistic=0.03696153204967909, pvalue=5.548509668168695e-06)\n",
      "Ks_2sampResult(statistic=0.04879336113098042, pvalue=4.2253771734988315e-09)\n",
      "Ks_2sampResult(statistic=0.05383833137771623, pvalue=5.268538046276873e-10)\n",
      "Ks_2sampResult(statistic=0.0602629228735756, pvalue=3.3886378154568845e-11)\n",
      "Ks_2sampResult(statistic=0.07389968704297287, pvalue=1.0699067470443676e-15)\n",
      "Ks_2sampResult(statistic=0.07749679086438277, pvalue=1.0795162770900843e-15)\n",
      "Ks_2sampResult(statistic=0.09316856992025783, pvalue=2.757522857421208e-20)\n",
      "Ks_2sampResult(statistic=0.09063015753938486, pvalue=1.5996647977338206e-18)\n",
      "Ks_2sampResult(statistic=0.10105548126161977, pvalue=2.4960797313700946e-20)\n",
      "Ks_2sampResult(statistic=0.10655381236613493, pvalue=1.487464134784421e-22)\n",
      "Ks_2sampResult(statistic=0.11084723561842842, pvalue=2.7268451412310965e-22)\n",
      "Ks_2sampResult(statistic=0.13241902580908385, pvalue=1.1721841421098455e-28)\n",
      "Ks_2sampResult(statistic=0.09374488358931837, pvalue=1.4180067100195566e-14)\n",
      "Ks_2sampResult(statistic=0.15514614764802315, pvalue=3.855981978654386e-37)\n"
     ]
    },
    {
     "data": {
      "text/plain": [
       "Text(0.5, 1.0, 'P-Value Versus Period, 3 REarth, 300 ppm')"
      ]
     },
     "execution_count": 7,
     "metadata": {},
     "output_type": "execute_result"
    },
    {
     "data": {
      "image/png": "[encoded data removed]",
      "text/plain": [
       "<Figure size 432x288 with 1 Axes>"
      ]
     },
     "metadata": {
      "needs_background": "light"
     },
     "output_type": "display_data"
    }
   ],
   "source": [
    "truedata3 = np.load('3RETransits300ppm.npy',allow_pickle=True)\n",
    "\n",
    "truelists3 = {}\n",
    "\n",
    "for i in range(0,len(binList)-1):\n",
    "    SDEbin =  np.zeros(0,float)\n",
    "    for k in range(0,len(truedata3)):\n",
    "        period = truedata3[k].periods\n",
    "        SDEs = truedata3[k].power\n",
    "        powerBin = SDEs[(period >= binList[i]) & (period < binList[i+1])]\n",
    "        SDEbin = np.append(SDEbin,powerBin)\n",
    "    truelists3['list_%s' % i] = SDEbin\n",
    "\n",
    "pvals3 = []\n",
    "\n",
    "for i in range(1,len(binList)-1):\n",
    "    pvals3.append(stats.ks_2samp(truelists3['list_%s' % i],falselists['list_%s' % i],alternative='two-sided')[1])\n",
    "    print(stats.ks_2samp(truelists3['list_%s' % i],falselists['list_%s' % i],alternative='two-sided'))\n",
    "    \n",
    "plt.plot(periodvals,pvals3,\"b.\")\n",
    "plt.xlabel(\"Period (d)\")\n",
    "plt.ylabel(\"KS-Test P-Value\")\n",
    "plt.title(\"P-Value Versus Period, 3 REarth, 300 ppm\")"
   ]
  },
  {
   "cell_type": "code",
   "execution_count": 9,
   "metadata": {},
   "outputs": [
    {
     "name": "stdout",
     "output_type": "stream",
     "text": [
      "Ks_2sampResult(statistic=0.02665474095796677, pvalue=1.541567238782026e-33)\n",
      "Ks_2sampResult(statistic=0.025085194170883146, pvalue=1.7832230520853202e-20)\n",
      "Ks_2sampResult(statistic=0.02552909235712289, pvalue=1.434793611121393e-13)\n",
      "Ks_2sampResult(statistic=0.02426772373566763, pvalue=7.3629135530041455e-09)\n",
      "Ks_2sampResult(statistic=0.02142146001616685, pvalue=1.926729824627081e-05)\n",
      "Ks_2sampResult(statistic=0.018486160001538826, pvalue=0.0019467505761624484)\n",
      "Ks_2sampResult(statistic=0.014350440551314292, pvalue=0.0657183444556205)\n",
      "Ks_2sampResult(statistic=0.011671320607929747, pvalue=0.2941168198660573)\n",
      "Ks_2sampResult(statistic=0.016078622830310696, pvalue=0.08333920747868924)\n",
      "Ks_2sampResult(statistic=0.023675039130152897, pvalue=0.00544721010966398)\n",
      "Ks_2sampResult(statistic=0.029154944986246545, pvalue=0.0006975884891869113)\n",
      "Ks_2sampResult(statistic=0.023050122995865244, pvalue=0.02317613202593176)\n",
      "Ks_2sampResult(statistic=0.027113701502298665, pvalue=0.00743800714495876)\n",
      "Ks_2sampResult(statistic=0.01941463937412924, pvalue=0.15237297585967716)\n",
      "Ks_2sampResult(statistic=0.04021732705903758, pvalue=5.998101966512041e-05)\n",
      "Ks_2sampResult(statistic=0.04553271651246138, pvalue=1.0726972648549466e-05)\n",
      "Ks_2sampResult(statistic=0.04067572448667722, pvalue=0.0003277476449712845)\n",
      "Ks_2sampResult(statistic=0.05008136649547003, pvalue=5.956578956634894e-06)\n",
      "Ks_2sampResult(statistic=0.07415538667275515, pvalue=3.831279339784903e-11)\n",
      "Ks_2sampResult(statistic=0.07606575556932715, pvalue=1.0568642541388966e-11)\n",
      "Ks_2sampResult(statistic=0.04602662570404506, pvalue=0.0003397572903888533)\n",
      "Ks_2sampResult(statistic=0.05247759308248112, pvalue=7.36370109470519e-05)\n",
      "Ks_2sampResult(statistic=0.07051341782814124, pvalue=1.975127741595496e-08)\n",
      "Ks_2sampResult(statistic=0.05954044066572198, pvalue=7.828547023511912e-06)\n"
     ]
    },
    {
     "data": {
      "text/plain": [
       "Text(0.5, 1.0, 'P-Value Versus Period, 2 REarth, 300 ppm')"
      ]
     },
     "execution_count": 9,
     "metadata": {},
     "output_type": "execute_result"
    },
    {
     "data": {
      "image/png": "[encoded data removed]",
      "text/plain": [
       "<Figure size 432x288 with 1 Axes>"
      ]
     },
     "metadata": {
      "needs_background": "light"
     },
     "output_type": "display_data"
    }
   ],
   "source": [
    "truedata2 = np.load('2RETransits300ppm.npy',allow_pickle=True)\n",
    "\n",
    "truelists2 = {}\n",
    "\n",
    "for i in range(0,len(binList)-1):\n",
    "    SDEbin =  np.zeros(0,float)\n",
    "    for k in range(0,len(truedata2)):\n",
    "        period = truedata2[k].periods\n",
    "        SDEs = truedata2[k].power\n",
    "        powerBin = SDEs[(period >= binList[i]) & (period < binList[i+1])]\n",
    "        SDEbin = np.append(SDEbin,powerBin)\n",
    "    truelists2['list_%s' % i] = SDEbin\n",
    "\n",
    "pvals2 = []\n",
    "\n",
    "for i in range(1,len(binList)-1):\n",
    "    pvals2.append(stats.ks_2samp(truelists2['list_%s' % i],falselists['list_%s' % i],alternative='two-sided')[1])\n",
    "    print(stats.ks_2samp(truelists2['list_%s' % i],falselists['list_%s' % i],alternative='two-sided'))\n",
    "    \n",
    "plt.plot(periodvals,pvals2,\"b.\")\n",
    "plt.xlabel(\"Period (d)\")\n",
    "plt.ylabel(\"KS-Test P-Value\")\n",
    "plt.title(\"P-Value Versus Period, 2 REarth, 300 ppm\")"
   ]
  },
  {
   "cell_type": "code",
   "execution_count": 10,
   "metadata": {},
   "outputs": [
    {
     "name": "stdout",
     "output_type": "stream",
     "text": [
      "Ks_2sampResult(statistic=0.014496078565095827, pvalue=3.2153095547693253e-10)\n",
      "Ks_2sampResult(statistic=0.012893648944150904, pvalue=1.0093977785162604e-05)\n",
      "Ks_2sampResult(statistic=0.013239580903629283, pvalue=0.0005832251013669687)\n",
      "Ks_2sampResult(statistic=0.012885351515393606, pvalue=0.008380603972305091)\n",
      "Ks_2sampResult(statistic=0.011120861610751487, pvalue=0.08893265737483398)\n",
      "Ks_2sampResult(statistic=0.00852032719718393, pvalue=0.4528850793806423)\n",
      "Ks_2sampResult(statistic=0.01772990306400124, pvalue=0.01088442917917986)\n",
      "Ks_2sampResult(statistic=0.011449320663499185, pvalue=0.315862745098413)\n",
      "Ks_2sampResult(statistic=0.01463473011109917, pvalue=0.1437042999375361)\n",
      "Ks_2sampResult(statistic=0.015463958582238146, pvalue=0.16089311980197646)\n",
      "Ks_2sampResult(statistic=0.015519765358006143, pvalue=0.2093225666712965)\n",
      "Ks_2sampResult(statistic=0.017949022139255755, pvalue=0.13396185503020974)\n",
      "Ks_2sampResult(statistic=0.02574265361212097, pvalue=0.012910845588079966)\n",
      "Ks_2sampResult(statistic=0.023108562854999404, pvalue=0.05214555470654301)\n",
      "Ks_2sampResult(statistic=0.021682844953662572, pvalue=0.09688523643630766)\n",
      "Ks_2sampResult(statistic=0.024325581395348794, pvalue=0.06261999484233755)\n",
      "Ks_2sampResult(statistic=0.021702092189714084, pvalue=0.1671794197421488)\n",
      "Ks_2sampResult(statistic=0.049865447131013485, pvalue=6.645746113917337e-06)\n",
      "Ks_2sampResult(statistic=0.04252356567402721, pvalue=0.0005980161361422763)\n",
      "Ks_2sampResult(statistic=0.05240027398153879, pvalue=8.901047020932805e-06)\n",
      "Ks_2sampResult(statistic=0.04881601352719134, pvalue=0.00011491772886205243)\n",
      "Ks_2sampResult(statistic=0.05760821784393466, pvalue=9.072379102152753e-06)\n",
      "Ks_2sampResult(statistic=0.03493189086745374, pvalue=0.021695900204717674)\n",
      "Ks_2sampResult(statistic=0.039070323136339624, pvalue=0.009389610355039482)\n"
     ]
    },
    {
     "data": {
      "text/plain": [
       "Text(0.5, 1.0, 'P-Value Versus Period, 1.75 REarth, 300 ppm')"
      ]
     },
     "execution_count": 10,
     "metadata": {},
     "output_type": "execute_result"
    },
    {
     "data": {
      "image/png": "[encoded data removed]",
      "text/plain": [
       "<Figure size 432x288 with 1 Axes>"
      ]
     },
     "metadata": {
      "needs_background": "light"
     },
     "output_type": "display_data"
    }
   ],
   "source": [
    "truedata175 = np.load('175RETransits300ppm.npy',allow_pickle=True)\n",
    "\n",
    "truelists175 = {}\n",
    "\n",
    "for i in range(0,len(binList)-1):\n",
    "    SDEbin =  np.zeros(0,float)\n",
    "    for k in range(0,len(truedata175)):\n",
    "        period = truedata175[k].periods\n",
    "        SDEs = truedata175[k].power\n",
    "        powerBin = SDEs[(period >= binList[i]) & (period < binList[i+1])]\n",
    "        SDEbin = np.append(SDEbin,powerBin)\n",
    "    truelists175['list_%s' % i] = SDEbin\n",
    "\n",
    "pvals175 = []\n",
    "\n",
    "for i in range(1,len(binList)-1):\n",
    "    pvals175.append(stats.ks_2samp(truelists175['list_%s' % i],falselists['list_%s' % i],alternative='two-sided')[1])\n",
    "    print(stats.ks_2samp(truelists175['list_%s' % i],falselists['list_%s' % i],alternative='two-sided'))\n",
    "    \n",
    "plt.plot(periodvals,pvals175,\"b.\")\n",
    "plt.xlabel(\"Period (d)\")\n",
    "plt.ylabel(\"KS-Test P-Value\")\n",
    "plt.title(\"P-Value Versus Period, 1.75 REarth, 300 ppm\")"
   ]
  },
  {
   "cell_type": "code",
   "execution_count": 11,
   "metadata": {},
   "outputs": [
    {
     "name": "stdout",
     "output_type": "stream",
     "text": [
      "Ks_2sampResult(statistic=0.015136056741458126, pvalue=4.201193963562741e-11)\n",
      "Ks_2sampResult(statistic=0.010381943890227896, pvalue=0.0007358197008497128)\n",
      "Ks_2sampResult(statistic=0.011540122425564403, pvalue=0.0041224587602980796)\n",
      "Ks_2sampResult(statistic=0.00942448629908954, pvalue=0.10689455079097102)\n",
      "Ks_2sampResult(statistic=0.005669595693497009, pvalue=0.8132832376514684)\n",
      "Ks_2sampResult(statistic=0.017190643814799844, pvalue=0.004973287956629747)\n",
      "Ks_2sampResult(statistic=0.011787564538193379, pvalue=0.19942538900456042)\n",
      "Ks_2sampResult(statistic=0.01495842710677664, pvalue=0.08625973705053287)\n",
      "Ks_2sampResult(statistic=0.011798227334611444, pvalue=0.35920049640014423)\n",
      "Ks_2sampResult(statistic=0.016939744195308082, pvalue=0.0972495869252307)\n",
      "Ks_2sampResult(statistic=0.015546855463865972, pvalue=0.20768471192277066)\n",
      "Ks_2sampResult(statistic=0.019960106305646153, pvalue=0.07067956572648257)\n",
      "Ks_2sampResult(statistic=0.020714473490167418, pvalue=0.07637083751411881)\n",
      "Ks_2sampResult(statistic=0.017482513485514245, pvalue=0.24757655629854602)\n",
      "Ks_2sampResult(statistic=0.012582312244727861, pvalue=0.6879423329442661)\n",
      "Ks_2sampResult(statistic=0.027099608235392147, pvalue=0.02716868706869409)\n",
      "Ks_2sampResult(statistic=0.016978133422244523, pvalue=0.4334313826976378)\n",
      "Ks_2sampResult(statistic=0.022910150614576685, pvalue=0.13946291673472935)\n",
      "Ks_2sampResult(statistic=0.022081824804027095, pvalue=0.22390475024804157)\n",
      "Ks_2sampResult(statistic=0.030691912108461894, pvalue=0.02917879518195411)\n",
      "Ks_2sampResult(statistic=0.029726836471022478, pvalue=0.05351451939142203)\n",
      "Ks_2sampResult(statistic=0.03208394203814113, pvalue=0.044021558557911934)\n",
      "Ks_2sampResult(statistic=0.030640028428159716, pvalue=0.06158529779860828)\n",
      "Ks_2sampResult(statistic=0.03299561001361451, pvalue=0.043691449515006586)\n"
     ]
    },
    {
     "data": {
      "text/plain": [
       "Text(0.5, 1.0, 'P-Value Versus Period, 1.5 REarth, 300 ppm')"
      ]
     },
     "execution_count": 11,
     "metadata": {},
     "output_type": "execute_result"
    },
    {
     "data": {
      "image/png": "[encoded data removed]",
      "text/plain": [
       "<Figure size 432x288 with 1 Axes>"
      ]
     },
     "metadata": {
      "needs_background": "light"
     },
     "output_type": "display_data"
    }
   ],
   "source": [
    "truedata15 = np.load('15RETransits300ppm.npy',allow_pickle=True)\n",
    "\n",
    "truelists15 = {}\n",
    "\n",
    "for i in range(0,len(binList)-1):\n",
    "    SDEbin =  np.zeros(0,float)\n",
    "    for k in range(0,len(truedata15)):\n",
    "        period = truedata15[k].periods\n",
    "        SDEs = truedata15[k].power\n",
    "        powerBin = SDEs[(period >= binList[i]) & (period < binList[i+1])]\n",
    "        SDEbin = np.append(SDEbin,powerBin)\n",
    "    truelists15['list_%s' % i] = SDEbin\n",
    "\n",
    "pvals15 = []\n",
    "\n",
    "for i in range(1,len(binList)-1):\n",
    "    pvals15.append(stats.ks_2samp(truelists15['list_%s' % i],falselists['list_%s' % i],alternative='two-sided')[1])\n",
    "    print(stats.ks_2samp(truelists15['list_%s' % i],falselists['list_%s' % i],alternative='two-sided'))\n",
    "    \n",
    "plt.plot(periodvals,pvals15,\"b.\")\n",
    "plt.xlabel(\"Period (d)\")\n",
    "plt.ylabel(\"KS-Test P-Value\")\n",
    "plt.title(\"P-Value Versus Period, 1.5 REarth, 300 ppm\")"
   ]
  },
  {
   "cell_type": "code",
   "execution_count": null,
   "metadata": {},
   "outputs": [],
   "source": []
  }
 ],
 "metadata": {
  "kernelspec": {
   "display_name": "Python 3",
   "language": "python",
   "name": "python3"
  },
  "language_info": {
   "codemirror_mode": {
    "name": "ipython",
    "version": 3
   },
   "file_extension": ".py",
   "mimetype": "text/x-python",
   "name": "python",
   "nbconvert_exporter": "python",
   "pygments_lexer": "ipython3",
   "version": "3.7.4"
  }
 },
 "nbformat": 4,
 "nbformat_minor": 2
}
